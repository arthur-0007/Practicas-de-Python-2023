{
 "cells": [
  {
   "cell_type": "markdown",
   "id": "f5daa2a3-7dee-477f-a42f-6d02f7c3f988",
   "metadata": {},
   "source": [
    "### If\n",
    "\n",
    "Es una estructura de control selectiva ademas de la estructura de control \n",
    "secuencial. La estructura selectiva nos permite en la practica ejecutar bloques de codigo y evitar otros bloques de codigo.\n",
    "\n",
    "existe casos de aplicacion :\n",
    "\n",
    "1. If simple\n",
    "2. If / else\n",
    "3. elif\n",
    "4. If anidados\n",
    "\n",
    "Como es la sintaxis del IF\n",
    "\n",
    "If CONDICION :\n",
    "    BLOQUE DE CODIGO A EJECUTAR SI LA CONDICION ES VERDADERA\n",
    "\n",
    "Como es la sintaxis del IF/ ELSE\n",
    "\n",
    "If CONDICION :\n",
    "    BLOQUE DE CODIGO A EJECUTAR SI LA CONDICION ES VERDADERA\n",
    "Else:\n",
    "    BLOQUE DE CODIGO A EJERCUTAR SI LA CONDICION ES FALSA.\n"
   ]
  },
  {
   "cell_type": "code",
   "execution_count": 1,
   "id": "f356be33-dd5e-4f5e-a206-ecd3b24394c9",
   "metadata": {},
   "outputs": [
    {
     "name": "stdout",
     "output_type": "stream",
     "text": [
      "9 es mayor que  1\n"
     ]
    }
   ],
   "source": [
    "a,b = 9, 1\n",
    "if a>b:\n",
    "    print(a,\"es mayor que \",b)\n"
   ]
  },
  {
   "cell_type": "code",
   "execution_count": 3,
   "id": "e3b161cc-b1d3-4119-b82b-4621b42bbef3",
   "metadata": {},
   "outputs": [
    {
     "name": "stdout",
     "output_type": "stream",
     "text": [
      "1 no es mayor que  1\n"
     ]
    }
   ],
   "source": [
    "#a,b = 9, 1\n",
    "a,b = 1, 1\n",
    "if a>b:\n",
    "    print(a,\"es mayor que \",b)\n",
    "else:\n",
    "    #print(b,\"es mayor que \",a)\n",
    "    print(b,\"no es mayor que \",a)\n",
    "    "
   ]
  },
  {
   "cell_type": "code",
   "execution_count": 7,
   "id": "c2d17282-f5f4-416d-baec-8a87973ae781",
   "metadata": {},
   "outputs": [
    {
     "name": "stdout",
     "output_type": "stream",
     "text": [
      "triangulo escaleno\n"
     ]
    }
   ],
   "source": [
    "a,b,c=1,2,3 #lados del triangulo\n",
    "#a,b,c=1,1,1 #lados del triangulo\n",
    "# a,b,c=2,2,3 #lados del triangulo\n",
    "if a==b and b==c:\n",
    "    print(\"triangulo equilatero\")\n",
    "else:\n",
    "    if a==b or b==c or c==a:\n",
    "        print(\"triangulo isoceles\")\n",
    "    else:\n",
    "        print(\"triangulo escaleno\")      \n"
   ]
  },
  {
   "cell_type": "code",
   "execution_count": 9,
   "id": "7efc4845-9433-4cf3-a70c-30447829f85c",
   "metadata": {},
   "outputs": [
    {
     "name": "stdout",
     "output_type": "stream",
     "text": [
      "triangulo equilatero\n",
      "triangulo isoceles\n"
     ]
    }
   ],
   "source": [
    "# TIENE ERROR POR QUE EL ISOCELES ES UN SUB CASO DEL EQUILATERO\n",
    "#a,b,c=1,2,3 #lados del triangulo\n",
    "a,b,c=1,1,1 #lados del triangulo\n",
    "# a,b,c=2,2,3 #lados del triangulo\n",
    "if a==b and b==c:\n",
    "    print(\"triangulo equilatero\")\n",
    "if a==b or b==c or c==a:\n",
    "    print(\"triangulo isoceles\")\n",
    "if a !=b and b!=c and c!=a:\n",
    "    print(\"triangulo escaleno\")   \n",
    "    "
   ]
  },
  {
   "cell_type": "code",
   "execution_count": 10,
   "id": "9221ac70-3c0a-470f-884d-f8a47895d503",
   "metadata": {},
   "outputs": [
    {
     "name": "stdout",
     "output_type": "stream",
     "text": [
      "triangulo escaleno\n"
     ]
    }
   ],
   "source": [
    "#ELSEIF\n",
    "a,b,c=1,2,3 #lados del triangulo\n",
    "#a,b,c=1,1,1 #lados del triangulo\n",
    "# a,b,c=2,2,3 #lados del triangulo\n",
    "#if a==b and b==c:\n",
    "#    print(\"triangulo equilatero\")\n",
    "#else:\n",
    "#    if a==b or b==c or c==a:\n",
    "#        print(\"triangulo isoceles\")\n",
    "#    else:\n",
    "#        print(\"triangulo escaleno\") \n",
    "if a==b and b==c:\n",
    "    print(\"triangulo equilatero\")\n",
    "elif a==b or b==c or c==a:\n",
    "    print(\"triangulo isoceles\")\n",
    "else:\n",
    "    print(\"triangulo escaleno\")  "
   ]
  },
  {
   "cell_type": "code",
   "execution_count": 14,
   "id": "d9f6394a-c173-4620-ac95-435df39893bc",
   "metadata": {},
   "outputs": [
    {
     "name": "stdin",
     "output_type": "stream",
     "text": [
      "Qué opcion eliges?>   4\n"
     ]
    },
    {
     "name": "stdout",
     "output_type": "stream",
     "text": [
      "Esa opcion no existe\n"
     ]
    }
   ],
   "source": [
    "#MENU\n",
    "print(\"CHORO\")\n",
    "opc=int(input(\"Qué opcion eliges?>  \"))\n",
    "if opc==1:\n",
    "    print(\"Calculo de el área de un circulo\")\n",
    "elif opc==2:\n",
    "    print(\"Calculo del área de un triangulo\")\n",
    "else:\n",
    "    print(\"Esa opcion no existe\") "
   ]
  },
  {
   "cell_type": "code",
   "execution_count": 20,
   "id": "0a82b2c5-690b-493d-bb97-7fab6233769c",
   "metadata": {},
   "outputs": [
    {
     "name": "stdout",
     "output_type": "stream",
     "text": [
      "1. Calculo de el área de un circulo\n",
      " 2.Calculo del área de un triangulo\n"
     ]
    },
    {
     "name": "stdin",
     "output_type": "stream",
     "text": [
      "Qué opcion eliges?>   2\n"
     ]
    },
    {
     "name": "stdout",
     "output_type": "stream",
     "text": [
      "Calculo del área de un triangulo\n"
     ]
    },
    {
     "name": "stdin",
     "output_type": "stream",
     "text": [
      "Base>  2\n",
      "Altura>  3\n"
     ]
    },
    {
     "name": "stdout",
     "output_type": "stream",
     "text": [
      "El area es  3.0\n"
     ]
    }
   ],
   "source": [
    "from math import pi\n",
    "#MENU\n",
    "print(\"1. Calculo de el área de un circulo\\n 2.Calculo del área de un triangulo\")\n",
    "opc=int(input(\"Qué opcion eliges?>  \"))\n",
    "if opc==1:\n",
    "    print(\"Calculo de el área de un circulo\")\n",
    "    radio=float(input(\"Radio> \"))\n",
    "    print(\"El area es \",pi*radio**2 )\n",
    "elif opc==2:\n",
    "    print(\"Calculo del área de un triangulo\")\n",
    "    b=float(input(\"Base> \"))\n",
    "    a=float(input(\"Altura> \"))\n",
    "    print(\"El area es \",(b*a)/2 )\n",
    "else:\n",
    "    print(\"Esa opcion no existe\") "
   ]
  },
  {
   "cell_type": "code",
   "execution_count": 17,
   "id": "a6577d18-48ff-430a-bbef-566cb6933e31",
   "metadata": {},
   "outputs": [
    {
     "name": "stdout",
     "output_type": "stream",
     "text": [
      "3.141592653589793\n"
     ]
    }
   ],
   "source": [
    "from math import pi\n",
    "print(pi)\n",
    "\n",
    "#CHEAT SHEET PYTHON 3\n",
    "# https://www.programiz.com/python-programming/examples"
   ]
  }
 ],
 "metadata": {
  "kernelspec": {
   "display_name": "Python 3 (ipykernel)",
   "language": "python",
   "name": "python3"
  },
  "language_info": {
   "codemirror_mode": {
    "name": "ipython",
    "version": 3
   },
   "file_extension": ".py",
   "mimetype": "text/x-python",
   "name": "python",
   "nbconvert_exporter": "python",
   "pygments_lexer": "ipython3",
   "version": "3.10.5"
  }
 },
 "nbformat": 4,
 "nbformat_minor": 5
}
