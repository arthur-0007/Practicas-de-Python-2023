{
 "cells": [
  {
   "cell_type": "markdown",
   "id": "fd275c94-0e4b-41c6-a529-b7d7cba724ea",
   "metadata": {},
   "source": [
    "## ARCHIVOS"
   ]
  },
  {
   "cell_type": "code",
   "execution_count": 13,
   "id": "0b4bded6-5b16-49d8-9a77-9f97f0efd25b",
   "metadata": {},
   "outputs": [
    {
     "name": "stdout",
     "output_type": "stream",
     "text": [
      "<class 'str'>\n",
      "21/03/2023\n",
      "ARTURO VALDIVIA GONZALEZ\n",
      "2945343tel: 36513092Avenida Palomar #1234CP.44910\n"
     ]
    }
   ],
   "source": [
    "# para abrir\n",
    "file1 =open(\"file.txt\",\"r\")\n",
    "#lectura del contenido\n",
    "readinfo=file1.read()\n",
    "print( type(readinfo) ) \n",
    "print(readinfo)\n",
    "file1.close()"
   ]
  },
  {
   "cell_type": "code",
   "execution_count": 6,
   "id": "85b6333c-4ef4-46f4-b0f0-7600832b2355",
   "metadata": {},
   "outputs": [
    {
     "name": "stdout",
     "output_type": "stream",
     "text": [
      "campo 1\n",
      "21/03/2023\n",
      "\n",
      "campo 2\n",
      "ARTURO VALDIVIA GONZALEZ\n",
      "\n",
      "campo 3\n",
      "2945343\n"
     ]
    }
   ],
   "source": [
    "# para abrir\n",
    "file1 =open(\"file.txt\",\"r\")\n",
    "#lectura del contenido\n",
    "c=0\n",
    "for line in file1:\n",
    "    c=c+1\n",
    "    print(\"linea\",c)\n",
    "    print(line)\n",
    "\n",
    "file1.close()"
   ]
  },
  {
   "cell_type": "code",
   "execution_count": 10,
   "id": "2c64a768-5c02-4ca7-89ab-8aec2eed73af",
   "metadata": {},
   "outputs": [
    {
     "name": "stdout",
     "output_type": "stream",
     "text": [
      "21/03/2023\n",
      "ARTURO VALDIVIA GONZALEZ\n",
      "2945343\n"
     ]
    }
   ],
   "source": [
    "try: \n",
    "    file1=open(\"file.txt\",\"r\")\n",
    "    readc=file1.read()\n",
    "    print(readc)\n",
    "except FileNotFoundError as fnf_error:#FileNotFoundError as fnf_error\n",
    "    print(\"Surgio algun Error\")\n",
    "finally:\n",
    "    file1.close()\n",
    "    "
   ]
  },
  {
   "cell_type": "code",
   "execution_count": 12,
   "id": "b083fd10-dbbc-47c7-8280-c12225b5b3a7",
   "metadata": {},
   "outputs": [
    {
     "name": "stdin",
     "output_type": "stream",
     "text": [
      "Cuantas lineas deseas escribir>>  3\n",
      "Que deseas escribir>>  tel: 36513092\n",
      "Que deseas escribir>>  Avenida Palomar #1234\n",
      "Que deseas escribir>>  CP.44910\n"
     ]
    }
   ],
   "source": [
    "# para abrir\n",
    "file1 =open(\"file.txt\",\"a\")\n",
    "#lectura del contenido\n",
    "lines=int(input(\"Cuantas lineas deseas escribir>> \") )\n",
    "\n",
    "for line in range(lines):\n",
    "    txt=input(\"Que deseas escribir>> \")\n",
    "    txt=txt+\"\\n\"# Salto de linea\n",
    "    file1.write(txt)\n",
    "    \n",
    "file1.close()"
   ]
  }
 ],
 "metadata": {
  "kernelspec": {
   "display_name": "Python 3 (ipykernel)",
   "language": "python",
   "name": "python3"
  },
  "language_info": {
   "codemirror_mode": {
    "name": "ipython",
    "version": 3
   },
   "file_extension": ".py",
   "mimetype": "text/x-python",
   "name": "python",
   "nbconvert_exporter": "python",
   "pygments_lexer": "ipython3",
   "version": "3.10.5"
  }
 },
 "nbformat": 4,
 "nbformat_minor": 5
}
