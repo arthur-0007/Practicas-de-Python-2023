{
 "cells": [
  {
   "cell_type": "code",
   "execution_count": 10,
   "metadata": {
    "id": "HYvO4diko8_5"
   },
   "outputs": [
    {
     "name": "stdout",
     "output_type": "stream",
     "text": [
      "0.7597990665401099\n"
     ]
    }
   ],
   "source": [
    "import random\n",
    "\n",
    "x = random.random() # real aleatorio x (0.0 <= x < 1.0)\n",
    "print(x)\n",
    "\n"
   ]
  },
  {
   "cell_type": "code",
   "execution_count": null,
   "metadata": {
    "id": "zOm63CosqNR4"
   },
   "outputs": [],
   "source": [
    "#simulacion de valores\n",
    "import random\n",
    "\n",
    "# Example 1: Generate a random probability\n",
    "probability = random.random()\n",
    "print(f\"Random Probability: {probability}\")\n",
    "\n",
    "# Example 2: Simulate a coin flip\n",
    "coin_flip = \"Heads\" if random.random() < 0.5 else \"Tails\"\n",
    "print(f\"Coin Flip Result: {coin_flip}\")\n",
    "\n",
    "# Example 3: Generate random coordinates in a 2D space\n",
    "x = random.random()  # Random x-coordinate between 0 and 1\n",
    "y = random.random()  # Random y-coordinate between 0 and 1\n",
    "print(f\"Random 2D Coordinates: ({x}, {y})\")\n",
    "\n",
    "# Example 4: Simulate a random chance event (e.g., winning a lottery with a 1% chance)\n",
    "lottery_chance = 0.01  # 1% chance of winning\n",
    "if random.random() < lottery_chance:\n",
    "    print(\"Congratulations! You won the lottery!\")\n",
    "else:\n",
    "    print(\"Sorry, you didn't win this time.\")\n",
    "\n",
    "# Example 5: Generate random numbers within a specified range\n",
    "min_value = 10\n",
    "max_value = 20\n",
    "random_number = min_value + (max_value - min_value) * random.random()\n",
    "print(f\"Random Number between {min_value} and {max_value}: {random_number}\")\n"
   ]
  },
  {
   "cell_type": "code",
   "execution_count": null,
   "metadata": {
    "id": "YmeCrFjXqL2o"
   },
   "outputs": [],
   "source": [
    "x = random.uniform(1, 10) # real aleatorio x (1.0 <= x < 10.0)\n",
    "print(x)\n",
    "\n",
    "x = random.randint(1, 3) # entero aleatorio de 1 a 10 (inclusivo)\n",
    "print(x)\n",
    "\n",
    "x = random.randrange(0, 101, 2) # entero aleatorio par de 0 a 100\n",
    "print(x)\n",
    "\n",
    "x = random.choice('abcdefghij') # elegir un elemento aleatorio de un objeto iterable\n",
    "print(x)\n",
    "\n",
    "x = random.choice([\"juan\",\"luis\",\"Omar\"]) # elegir un elemento aleatorio de un objeto iterable\n",
    "print(x)\n",
    "\n",
    "items = [1, 2, 3, 4, 5, 6, 7]\n",
    "random.shuffle(items) # ordenar aleatoriamente\n",
    "print(items)\n",
    "\n",
    "x = random.sample( [1, 2, 3, 4, 5] , 3) # elegir tres elementos\n",
    "print(x)"
   ]
  },
  {
   "cell_type": "code",
   "execution_count": 48,
   "metadata": {},
   "outputs": [
    {
     "name": "stdout",
     "output_type": "stream",
     "text": [
      "['Esmeral', 'Juan']\n"
     ]
    }
   ],
   "source": [
    "x = random.sample( [\"Juan\",\"Luis\",\"Omar\",\"Esmeralda\",\"Joana\"] , 2) # elegir tres elementos\n",
    "print(x)"
   ]
  },
  {
   "cell_type": "code",
   "execution_count": 50,
   "metadata": {
    "id": "UdG3wF-u0yXf"
   },
   "outputs": [
    {
     "name": "stdout",
     "output_type": "stream",
     "text": [
      "Generated Numbers: [2.81830970077322, 8.94208787785291, 3.1597891614568816, 1.3974647106015579, 1.1244775581117585]\n",
      "Average: 3.488\n"
     ]
    }
   ],
   "source": [
    "def generate_random_numbers(n):\n",
    "    random_numbers = [random.uniform(1, 10) for _ in range(n)]\n",
    "    return random_numbers\n",
    "\n",
    "def calculate_average(numbers):\n",
    "    if not numbers:\n",
    "        return 0\n",
    "    return sum(numbers) / len(numbers)\n",
    "\n",
    "# Generate a list of 5 random numbers between 1 and 10\n",
    "random_numbers = generate_random_numbers(5)\n",
    "\n",
    "# Calculate and print the average of the generated numbers\n",
    "average = calculate_average(random_numbers)\n",
    "print(f\"Generated Numbers: {random_numbers}\")\n",
    "print(f\"Average: {average:.3f}\")"
   ]
  },
  {
   "cell_type": "code",
   "execution_count": 55,
   "metadata": {
    "id": "TLUW8XlW1LYE"
   },
   "outputs": [
    {
     "name": "stdout",
     "output_type": "stream",
     "text": [
      "The randomly selected option is: Option A\n"
     ]
    }
   ],
   "source": [
    "import random\n",
    "\n",
    "# Generate a random choice between three options\n",
    "random_choice = random.randint(1, 3)\n",
    "\n",
    "# Map the random choice to specific options\n",
    "if random_choice == 1:\n",
    "    selected_option = \"Option A\"\n",
    "elif random_choice == 2:\n",
    "    selected_option = \"Option B\"\n",
    "else:\n",
    "    selected_option = \"Option C\"\n",
    "\n",
    "print(f\"The randomly selected option is: {selected_option}\")"
   ]
  },
  {
   "cell_type": "code",
   "execution_count": 60,
   "metadata": {
    "colab": {
     "base_uri": "https://localhost:8080/"
    },
    "id": "FZDDVFQ34vb3",
    "outputId": "40411841-f467-4dfa-ad08-53c6da742942"
   },
   "outputs": [
    {
     "name": "stdout",
     "output_type": "stream",
     "text": [
      "Multiplication Table for 4:\n",
      "\n",
      "4  x  1 = 4\n",
      "4  x  2 = 8\n",
      "4  x  3 = 12\n",
      "4  x  4 = 16\n",
      "4  x  5 = 20\n",
      "4  x  6 = 24\n",
      "4  x  7 = 28\n",
      "4  x  8 = 32\n",
      "4  x  9 = 36\n",
      "4  x  10 = 40\n"
     ]
    }
   ],
   "source": [
    "import random\n",
    "\n",
    "# Generate a random even number between 0 and 10\n",
    "random_even_number = random.randrange(0, 11, 2)\n",
    "\n",
    "# Create a multiplication table for the random even number\n",
    "print(f\"Multiplication Table for {random_even_number}:\\n\")\n",
    "\n",
    "for i in range(1, 11):\n",
    "    result = random_even_number * i\n",
    "    #print(f\"{random_even_number} x {i} = {result}\")\n",
    "    print(random_even_number,\" x \",i, \"=\",result)"
   ]
  },
  {
   "cell_type": "code",
   "execution_count": 62,
   "metadata": {
    "id": "FidEGTMs54bE"
   },
   "outputs": [
    {
     "name": "stdout",
     "output_type": "stream",
     "text": [
      "Option B: Calculate the Sum of Two Numbers\n"
     ]
    },
    {
     "name": "stdin",
     "output_type": "stream",
     "text": [
      "Enter the first number:  2.2\n",
      "Enter the second number:  1.1\n"
     ]
    },
    {
     "name": "stdout",
     "output_type": "stream",
     "text": [
      "The sum of 2.2 and 1.1 is 3.3000000000000003\n"
     ]
    }
   ],
   "source": [
    "import random\n",
    "\n",
    "# Define the basic programs for each option\n",
    "def program_a():\n",
    "    print(\"Option A: Greet the User\")\n",
    "    name = input(\"Enter your name: \")\n",
    "    print(f\"Hello, {name}!\")\n",
    "\n",
    "def program_b():\n",
    "    print(\"Option B: Calculate the Sum of Two Numbers\")\n",
    "    num1 = float(input(\"Enter the first number: \"))\n",
    "    num2 = float(input(\"Enter the second number: \"))\n",
    "    result = num1 + num2\n",
    "    print(f\"The sum of {num1} and {num2} is {result}\")\n",
    "\n",
    "def program_c():\n",
    "    print(\"Option C: Generate a Random Number\")\n",
    "    random_number = random.randint(1, 100)\n",
    "    print(f\"Random number: {random_number}\")\n",
    "\n",
    "# Randomly select an option from 'abc'\n",
    "selected_option = random.choice('abc')\n",
    "\n",
    "# Perform the action based on the selected option\n",
    "if selected_option == 'a':\n",
    "    program_a()\n",
    "elif selected_option == 'b':\n",
    "    program_b()\n",
    "elif selected_option == 'c':\n",
    "    program_c()\n"
   ]
  },
  {
   "cell_type": "code",
   "execution_count": 63,
   "metadata": {},
   "outputs": [
    {
     "name": "stdout",
     "output_type": "stream",
     "text": [
      "Option A: Greet the User\n"
     ]
    },
    {
     "name": "stdin",
     "output_type": "stream",
     "text": [
      "Enter your name:  Arturo\n"
     ]
    },
    {
     "name": "stdout",
     "output_type": "stream",
     "text": [
      "Hello, Arturo!\n"
     ]
    }
   ],
   "source": [
    "import random\n",
    "  \n",
    "\n",
    "# Randomly select an option from 'abc'\n",
    "selected_option = random.choice('abc')\n",
    "\n",
    "# Perform the action based on the selected option\n",
    "if selected_option == 'a':\n",
    "    print(\"Option A: Greet the User\")\n",
    "    name = input(\"Enter your name: \")\n",
    "    print(f\"Hello, {name}!\")\n",
    "elif selected_option == 'b':\n",
    "    print(\"Option B: Calculate the Sum of Two Numbers\")\n",
    "    num1 = float(input(\"Enter the first number: \"))\n",
    "    num2 = float(input(\"Enter the second number: \"))\n",
    "    result = num1 + num2\n",
    "    print(f\"The sum of {num1} and {num2} is {result}\")\n",
    "elif selected_option == 'c':\n",
    "    print(\"Option C: Generate a Random Number\")\n",
    "    random_number = random.randint(1, 100)\n",
    "    print(f\"Random number: {random_number}\")\n"
   ]
  },
  {
   "cell_type": "code",
   "execution_count": 65,
   "metadata": {
    "id": "4NeR9y4TAXi4"
   },
   "outputs": [
    {
     "name": "stdout",
     "output_type": "stream",
     "text": [
      "Shuffled List:\n",
      "['Kia', 'HM', 1.166767, 4, 'arturo@gmail.com', 'Deusche', 'Ampers', 6]\n"
     ]
    }
   ],
   "source": [
    "import random\n",
    "\n",
    "# Create a list of items\n",
    "items = [\"HM\", \"Kia\", \"Ampers\", 4, \"Deusche\", 6, \"arturo@gmail.com\",1.166767]\n",
    "\n",
    "# Shuffle the items randomly\n",
    "random.shuffle(items)\n",
    "\n",
    "# Print the shuffled list\n",
    "print(\"Shuffled List:\")\n",
    "print(items)\n",
    "#for item in items:\n",
    "#    print(item)\n"
   ]
  },
  {
   "cell_type": "code",
   "execution_count": 67,
   "metadata": {
    "colab": {
     "base_uri": "https://localhost:8080/"
    },
    "id": "FsPm7LJBDGnh",
    "outputId": "11588db5-18ac-42e3-cebf-904063cba246"
   },
   "outputs": [
    {
     "name": "stdout",
     "output_type": "stream",
     "text": [
      "Kia\n",
      "1\n",
      "HM\n",
      "Hello\n",
      "Your new password is  Kia1HMHello\n"
     ]
    }
   ],
   "source": [
    "import random\n",
    "# Create a list of items  random.sample([1, 2, 3, 4, 5], 3)\n",
    "items = [\"HM\", \"Kia\", \"Ampers\", 4, \"Deusche\", 6, \"@\",1, \"Hello\", 3.14, \"World\"]\n",
    "\n",
    "# Shuffle the items randomly\n",
    "my_x_list=random.sample(items,4)\n",
    "\n",
    "for i in my_x_list:\n",
    "    print(i)\n",
    "# Print the shuffled list\n",
    "\n",
    "c_string = ''.join(map(str, my_x_list) )\n",
    "print(\"Your new password is \",c_string)"
   ]
  }
 ],
 "metadata": {
  "colab": {
   "provenance": []
  },
  "kernelspec": {
   "display_name": "Python 3 (ipykernel)",
   "language": "python",
   "name": "python3"
  },
  "language_info": {
   "codemirror_mode": {
    "name": "ipython",
    "version": 3
   },
   "file_extension": ".py",
   "mimetype": "text/x-python",
   "name": "python",
   "nbconvert_exporter": "python",
   "pygments_lexer": "ipython3",
   "version": "3.10.11"
  }
 },
 "nbformat": 4,
 "nbformat_minor": 4
}
