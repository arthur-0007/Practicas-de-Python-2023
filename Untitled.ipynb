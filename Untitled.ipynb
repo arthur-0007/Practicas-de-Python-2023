{
 "cells": [
  {
   "cell_type": "code",
   "execution_count": 4,
   "id": "08405b19-4c80-4155-8ddf-8864bbaebc1b",
   "metadata": {},
   "outputs": [
    {
     "name": "stdout",
     "output_type": "stream",
     "text": [
      "3\n"
     ]
    }
   ],
   "source": [
    "a=[1,2]\n",
    "print(sum(a))"
   ]
  },
  {
   "cell_type": "code",
   "execution_count": 5,
   "id": "3439721b-7bec-40fb-b171-8d475dc52e2a",
   "metadata": {},
   "outputs": [
    {
     "name": "stdin",
     "output_type": "stream",
     "text": [
      "Cuantas calificaciones 1\n",
      "Escribela calificacion>>  22\n"
     ]
    },
    {
     "name": "stdout",
     "output_type": "stream",
     "text": [
      "El promedio es 22.0\n",
      "Las calificaciones son:\n",
      "Calificacion  0 = 22.0\n"
     ]
    }
   ],
   "source": [
    "#from math import sum\n",
    "cals=[]\n",
    "suma=0\n",
    "cuantas=int(input(\"Cuantas calificaciones\"))\n",
    "for a in range(cuantas):\n",
    "    calif=float(input(\"Escribela calificacion>> \"))\n",
    "    cals.append(calif)\n",
    "\n",
    "prom=sum(cals)/cuantas\n",
    "\n",
    "print(\"El promedio es\",prom)\n",
    "print(\"Las calificaciones son:\")\n",
    "q=0\n",
    "for i in cals:\n",
    "    print(\"Calificacion \",q,\"=\",i)\n",
    "    q=q+1"
   ]
  }
 ],
 "metadata": {
  "kernelspec": {
   "display_name": "Python 3 (ipykernel)",
   "language": "python",
   "name": "python3"
  },
  "language_info": {
   "codemirror_mode": {
    "name": "ipython",
    "version": 3
   },
   "file_extension": ".py",
   "mimetype": "text/x-python",
   "name": "python",
   "nbconvert_exporter": "python",
   "pygments_lexer": "ipython3",
   "version": "3.10.5"
  }
 },
 "nbformat": 4,
 "nbformat_minor": 5
}
