{
 "cells": [
  {
   "cell_type": "code",
   "execution_count": null,
   "metadata": {
    "colab": {
     "base_uri": "https://localhost:8080/"
    },
    "id": "WAq5Qw02U0sf",
    "outputId": "3d50c6e7-2806-4f0f-fbd6-978077323cd0"
   },
   "outputs": [
    {
     "name": "stdout",
     "output_type": "stream",
     "text": [
      "bienvenidos a mi aplicacion\n",
      "Bienvenidos a mi aplicacion\n"
     ]
    }
   ],
   "source": [
    "#capitalize()\n",
    "cadena=\"bienvenidos a mi aplicacion\"\n",
    "print(cadena)\n",
    "print(cadena.capitalize() )"
   ]
  },
  {
   "cell_type": "code",
   "execution_count": 3,
   "metadata": {
    "colab": {
     "base_uri": "https://localhost:8080/"
    },
    "id": "DjGieXr0YoNG",
    "outputId": "fe7ab75c-2461-49cf-bb1e-b5ed375d48aa"
   },
   "outputs": [
    {
     "name": "stdout",
     "output_type": "stream",
     "text": [
      "YALM\n",
      "yalm\n",
      "True\n"
     ]
    }
   ],
   "source": [
    "#lower\n",
    "cadena=\"YALM\"\n",
    "print(cadena)\n",
    "print(cadena.lower())\n",
    "print(cadena.lower() =='yalm')"
   ]
  },
  {
   "cell_type": "code",
   "execution_count": null,
   "metadata": {
    "colab": {
     "base_uri": "https://localhost:8080/"
    },
    "id": "0ZTaULXGYzZM",
    "outputId": "24641903-09b9-4d2b-d1de-727dad04795a"
   },
   "outputs": [
    {
     "name": "stdout",
     "output_type": "stream",
     "text": [
      "Hola que tal TODOS\n",
      "HOLA QUE TAL TODOS\n"
     ]
    }
   ],
   "source": [
    "#UPPER\n",
    "cadena=\"Hola que tal TODOS\"\n",
    "print(cadena)\n",
    "print(cadena.upper() )"
   ]
  },
  {
   "cell_type": "code",
   "execution_count": 5,
   "metadata": {
    "colab": {
     "base_uri": "https://localhost:8080/"
    },
    "id": "j0syypwHY-T0",
    "outputId": "fbb47dee-7fb1-4e2e-85e7-0451f980bbe2"
   },
   "outputs": [
    {
     "name": "stdout",
     "output_type": "stream",
     "text": [
      "Hola que tal TODOS en el x15\n",
      "hOLA QUE TAL todos EN EL X15\n"
     ]
    }
   ],
   "source": [
    "#swapcase\n",
    "cadena=\"Hola que tal TODOS en el x15\"\n",
    "print(cadena)\n",
    "print(cadena.swapcase() )"
   ]
  },
  {
   "cell_type": "code",
   "execution_count": 7,
   "metadata": {
    "colab": {
     "base_uri": "https://localhost:8080/"
    },
    "id": "q_4fEqCEZJaz",
    "outputId": "1f0c99d0-74ff-433b-ad84-3bb4eccaf221"
   },
   "outputs": [
    {
     "name": "stdout",
     "output_type": "stream",
     "text": [
      "hola a todos en el x15\n",
      "Hola A Todos En El X15\n"
     ]
    }
   ],
   "source": [
    "#title\n",
    "cadena=\"hola a todos en el x15\"\n",
    "print(cadena)\n",
    "print(cadena.title() )"
   ]
  },
  {
   "cell_type": "code",
   "execution_count": 10,
   "metadata": {
    "colab": {
     "base_uri": "https://localhost:8080/"
    },
    "id": "0MVCbE_dZUUw",
    "outputId": "f3f8f1f6-a194-4201-8b59-912044726ea1"
   },
   "outputs": [
    {
     "name": "stdout",
     "output_type": "stream",
     "text": [
      "Cajero 5000 hecho python 3\n",
      "*******Cajero 5000 hecho python 3*******\n"
     ]
    }
   ],
   "source": [
    "#center\n",
    "cadena=\"Cajero 5000 hecho python 3\"\n",
    "print(cadena)\n",
    "print(cadena.center(40,'*') )"
   ]
  },
  {
   "cell_type": "code",
   "execution_count": null,
   "metadata": {
    "colab": {
     "base_uri": "https://localhost:8080/"
    },
    "id": "yh-r5zirZuGz",
    "outputId": "ca43bed4-03a9-4fd2-b49f-8dc1a7acaf6c"
   },
   "outputs": [
    {
     "name": "stdout",
     "output_type": "stream",
     "text": [
      "Cajero 5000 hecho python\n",
      "Cajero 5000 hecho python**********************************************\n"
     ]
    }
   ],
   "source": [
    "#ljust\n",
    "cadena=\"Cajero 5000 hecho python\"\n",
    "print(cadena)\n",
    "print(cadena.ljust(70,'*') )"
   ]
  },
  {
   "cell_type": "code",
   "execution_count": 12,
   "metadata": {
    "colab": {
     "base_uri": "https://localhost:8080/"
    },
    "id": "gLgQcJRwZ89d",
    "outputId": "a8a437a6-0225-4628-af42-f75f13e484a1"
   },
   "outputs": [
    {
     "name": "stdout",
     "output_type": "stream",
     "text": [
      "Cajero 5000 hecho python\n",
      "¬¬¬¬¬¬¬¬¬¬¬¬¬¬¬¬¬¬¬¬¬¬¬¬¬¬¬¬¬¬¬¬¬¬¬¬¬¬¬¬¬¬¬¬¬¬Cajero 5000 hecho python\n"
     ]
    }
   ],
   "source": [
    "#rjust\n",
    "cadena=\"Cajero 5000 hecho python\"\n",
    "print(cadena)\n",
    "print(cadena.rjust(70,'¬') )"
   ]
  },
  {
   "cell_type": "code",
   "execution_count": 14,
   "metadata": {
    "colab": {
     "base_uri": "https://localhost:8080/"
    },
    "id": "gCAhU__gaFjr",
    "outputId": "0fdb864e-a396-444d-b766-af5099a9e0a8"
   },
   "outputs": [
    {
     "name": "stdout",
     "output_type": "stream",
     "text": [
      "Numero de cuenta: 0001245\n"
     ]
    }
   ],
   "source": [
    "#ljust\n",
    "cuenta=1245\n",
    "ccuenta=str(cuenta).zfill(7)\n",
    "print(\"Numero de cuenta:\",ccuenta )\n",
    "\n",
    "\n",
    "#cuenta=1245\n",
    "#ccuenta=\"0000\"+str(cuenta)\n",
    "#print(\"Numero de cuenta:\",ccuenta )\n",
    "\n",
    "\n"
   ]
  },
  {
   "cell_type": "code",
   "execution_count": 16,
   "metadata": {
    "colab": {
     "base_uri": "https://localhost:8080/"
    },
    "id": "0H_aJcfQbDBW",
    "outputId": "0ca6eee0-71b6-46a7-e4bd-2ad6f9ac8765"
   },
   "outputs": [
    {
     "name": "stdout",
     "output_type": "stream",
     "text": [
      "Cajero 5000 hecho python\n",
      "apariciones de la letra e en la cadena 3\n"
     ]
    }
   ],
   "source": [
    "#.count\n",
    "cadena=\"Cajero 5000 hecho python\"\n",
    "print(cadena)\n",
    "c=cadena.count(\"o\")\n",
    "print(\"apariciones de la letra e en la cadena\",c)\n"
   ]
  },
  {
   "cell_type": "code",
   "execution_count": 20,
   "metadata": {
    "colab": {
     "base_uri": "https://localhost:8080/"
    },
    "id": "0b_Vw6WBbmeF",
    "outputId": "fb1161f3-7deb-44f7-f61e-29e4290ee439"
   },
   "outputs": [
    {
     "name": "stdout",
     "output_type": "stream",
     "text": [
      "Cajero 5000 hecho python\n",
      "Posicion donde se encuentra la busqueda en la cadena 18\n",
      "py\n"
     ]
    }
   ],
   "source": [
    "#.find\n",
    "cadena=\"Cajero 5000 hecho python\"\n",
    "print(cadena)\n",
    "c=cadena.find(\"py\")\n",
    "print(\"Posicion donde se encuentra la busqueda en la cadena\",c)\n",
    "print(cadena[18:20])"
   ]
  },
  {
   "cell_type": "code",
   "execution_count": 22,
   "metadata": {
    "colab": {
     "base_uri": "https://localhost:8080/"
    },
    "id": "SKe55q8scY6d",
    "outputId": "a4c06d82-fdf2-4129-b700-bdffc3f433aa"
   },
   "outputs": [
    {
     "name": "stdout",
     "output_type": "stream",
     "text": [
      "Cajero 5000 hecho python\n",
      "Posicion donde se encuentra la busqueda en la cadena 18\n"
     ]
    }
   ],
   "source": [
    "#.find\n",
    "cadena=\"Cajero 5000 hecho python\"\n",
    "print(cadena)\n",
    "c=cadena.find(\"py\",18,22)\n",
    "print(\"Posicion donde se encuentra la busqueda en la cadena\",c)"
   ]
  },
  {
   "cell_type": "code",
   "execution_count": 23,
   "metadata": {
    "colab": {
     "base_uri": "https://localhost:8080/"
    },
    "id": "DCiIosGjc1mN",
    "outputId": "515366bb-f13d-4d93-e20e-2203b8ba97e8"
   },
   "outputs": [
    {
     "name": "stdout",
     "output_type": "stream",
     "text": [
      "True\n",
      "False\n"
     ]
    }
   ],
   "source": [
    "#.startwith\n",
    "cadena=\"Cajero 5000 hecho python\"\n",
    "print(cadena.startswith(\"Cajero\") )\n",
    "print(cadena.startswith(\"python\") )\n",
    "\n"
   ]
  },
  {
   "cell_type": "code",
   "execution_count": null,
   "metadata": {
    "colab": {
     "base_uri": "https://localhost:8080/"
    },
    "id": "x5IRccghdW7d",
    "outputId": "25e9659c-47f3-4828-dda6-7543d53780b3"
   },
   "outputs": [
    {
     "name": "stdout",
     "output_type": "stream",
     "text": [
      "False\n",
      "True\n"
     ]
    }
   ],
   "source": [
    "#.endswith\n",
    "cadena=\"Cajero 5000 hecho python\"\n",
    "print(cadena.endswith(\"Cajero\") )\n",
    "print(cadena.endswith(\"python\") )"
   ]
  },
  {
   "cell_type": "code",
   "execution_count": 26,
   "metadata": {
    "colab": {
     "base_uri": "https://localhost:8080/"
    },
    "id": "VyaTVwR0dvne",
    "outputId": "a5d88497-6546-4998-fff2-82751e109e90"
   },
   "outputs": [
    {
     "name": "stdout",
     "output_type": "stream",
     "text": [
      "True\n"
     ]
    }
   ],
   "source": [
    "# is alphanumeric ??\n",
    "#cad=\"pepegrillo 75\"\n",
    "#print(cad.isalnum())\n",
    "\n",
    "cad=\"pepegrillo75\"\n",
    "print(cad.isalnum())\n"
   ]
  },
  {
   "cell_type": "code",
   "execution_count": 27,
   "metadata": {
    "colab": {
     "base_uri": "https://localhost:8080/"
    },
    "id": "mm6NbHACeT0a",
    "outputId": "6196d60c-a154-4046-a9b5-ca46b4ddb41f"
   },
   "outputs": [
    {
     "name": "stdout",
     "output_type": "stream",
     "text": [
      "False\n",
      "True\n"
     ]
    }
   ],
   "source": [
    "cad=\"pepegrillo 75\"\n",
    "print(cad.isalpha())\n",
    "\n",
    "cad=\"pepegrillo\"\n",
    "print(cad.isalpha())"
   ]
  },
  {
   "cell_type": "code",
   "execution_count": null,
   "metadata": {
    "colab": {
     "base_uri": "https://localhost:8080/"
    },
    "id": "jpJg9osZeih9",
    "outputId": "e4020ab1-ca36-4dca-92b9-484850531c50"
   },
   "outputs": [
    {
     "name": "stdout",
     "output_type": "stream",
     "text": [
      "False\n",
      "True\n",
      "False\n",
      "False\n"
     ]
    }
   ],
   "source": [
    "cad=\"pepegrillo 75\"\n",
    "print(cad.isdigit())\n",
    "\n",
    "cad=\"784512\"\n",
    "print(cad.isdigit())\n",
    "\n",
    "cad=\"784.512\"\n",
    "print(cad.isdigit())\n",
    "\n",
    "cad=\"784 512\"\n",
    "print(cad.isdigit())"
   ]
  },
  {
   "cell_type": "code",
   "execution_count": null,
   "metadata": {
    "colab": {
     "base_uri": "https://localhost:8080/"
    },
    "id": "tm5ncmaQe2nm",
    "outputId": "4964c921-bc10-41ed-8d48-3de085390407"
   },
   "outputs": [
    {
     "name": "stdout",
     "output_type": "stream",
     "text": [
      "True\n",
      "False\n"
     ]
    }
   ],
   "source": [
    "cad=\"pepegrillo 75\"\n",
    "print(cad.islower())\n",
    "\n",
    "cad=\"PEPEgrillo 75\"\n",
    "print(cad.islower())"
   ]
  },
  {
   "cell_type": "code",
   "execution_count": null,
   "metadata": {
    "colab": {
     "base_uri": "https://localhost:8080/"
    },
    "id": "jZKRPDbsfECQ",
    "outputId": "1d9c5177-11c8-4aaf-94ff-f5b09e23fb64"
   },
   "outputs": [
    {
     "name": "stdout",
     "output_type": "stream",
     "text": [
      "False\n",
      "False\n",
      "True\n"
     ]
    }
   ],
   "source": [
    "cad=\"pepegrillo 75\"\n",
    "print(cad.isupper())\n",
    "\n",
    "cad=\"PEPEgrillo 75\"\n",
    "print(cad.isupper())\n",
    "\n",
    "cad=\"PEPE\"\n",
    "print(cad.isupper())"
   ]
  },
  {
   "cell_type": "code",
   "execution_count": null,
   "metadata": {
    "colab": {
     "base_uri": "https://localhost:8080/"
    },
    "id": "rgtOEOAHfOfm",
    "outputId": "f70a07b1-349b-4649-ce80-088e865417dd"
   },
   "outputs": [
    {
     "name": "stdout",
     "output_type": "stream",
     "text": [
      "False\n",
      "True\n"
     ]
    }
   ],
   "source": [
    "cad=\"PEPEgrillo 75\"\n",
    "print(cad.isspace())\n",
    "cad=\"       \"\n",
    "print(cad.isspace())"
   ]
  },
  {
   "cell_type": "code",
   "execution_count": null,
   "metadata": {
    "colab": {
     "base_uri": "https://localhost:8080/"
    },
    "id": "YvIRS2VEfY8v",
    "outputId": "5292d2f7-c062-431c-d389-b42b95528e8f"
   },
   "outputs": [
    {
     "name": "stdout",
     "output_type": "stream",
     "text": [
      "False\n",
      "True\n"
     ]
    }
   ],
   "source": [
    "cad=\"Pepe ok\"\n",
    "print(cad.istitle())\n",
    "\n",
    "cad=\"Arturo Valdivia\"\n",
    "print(cad.istitle())"
   ]
  },
  {
   "cell_type": "code",
   "execution_count": 28,
   "metadata": {
    "colab": {
     "base_uri": "https://localhost:8080/"
    },
    "id": "4ByRmURrfsa8",
    "outputId": "9a7cad04-f0c9-410a-8b16-f96b369f03eb"
   },
   "outputs": [
    {
     "name": "stdout",
     "output_type": "stream",
     "text": [
      "Estimado Sr. Nombre : Esperamo que se encuentre bien y tenga a bien ...\n",
      "Estimado Sr. Arturo Valdivia González : Esperamo que se encuentre bien y tenga a bien ...\n"
     ]
    }
   ],
   "source": [
    "plantilla=\"Estimado Sr. Nombre : Esperamo que se encuentre bien y tenga a bien ...\"\n",
    "Busqueda=\"Nombre\"\n",
    "cad=\"Arturo Valdivia González\"\n",
    "\n",
    "q=plantilla.replace(Busqueda,cad)\n",
    "print(plantilla)\n",
    "print(q)"
   ]
  },
  {
   "cell_type": "code",
   "execution_count": null,
   "metadata": {
    "colab": {
     "base_uri": "https://localhost:8080/"
    },
    "id": "vUI01Fp0hDhU",
    "outputId": "f1a37da7-ff79-419c-db91-b28bd95fdf96"
   },
   "outputs": [
    {
     "name": "stdout",
     "output_type": "stream",
     "text": [
      " http://www.amazon.com \n",
      "http://www.amazon.com\n"
     ]
    }
   ],
   "source": [
    "cad= \" http://www.amazon.com \"\n",
    "print(cad)\n",
    "print(cad.strip() )"
   ]
  },
  {
   "cell_type": "code",
   "execution_count": null,
   "metadata": {
    "colab": {
     "base_uri": "https://localhost:8080/"
    },
    "id": "3TyEeWGjhZWx",
    "outputId": "ed4981e7-9301-4b79-eb40-d11f78e945ec"
   },
   "outputs": [
    {
     "name": "stdout",
     "output_type": "stream",
     "text": [
      " http://www.amazon.com \n",
      "http://www.amazon.com \n"
     ]
    }
   ],
   "source": [
    "cad= \" http://www.amazon.com \"\n",
    "print(cad)\n",
    "print(cad.lstrip() )"
   ]
  },
  {
   "cell_type": "code",
   "execution_count": null,
   "metadata": {
    "colab": {
     "base_uri": "https://localhost:8080/"
    },
    "id": "sawgX_j8hf6r",
    "outputId": "aeda6739-3389-40ad-fcd1-1b8007de2b4c"
   },
   "outputs": [
    {
     "name": "stdout",
     "output_type": "stream",
     "text": [
      " http://www.amazon.com \n",
      " http://www.amazon.com\n"
     ]
    }
   ],
   "source": [
    "cad= \" http://www.amazon.com \"\n",
    "print(cad)\n",
    "print(cad.rstrip() )"
   ]
  },
  {
   "cell_type": "code",
   "execution_count": 30,
   "metadata": {
    "colab": {
     "base_uri": "https://localhost:8080/"
    },
    "id": "yy8Cz01Xho0j",
    "outputId": "6d13cabb-a73a-468a-baf4-0bd882b27644"
   },
   "outputs": [
    {
     "name": "stdout",
     "output_type": "stream",
     "text": [
      "\n"
     ]
    }
   ],
   "source": [
    "texto=\"\"\"\n",
    "Bootstrap Reference\n",
    "PHP Reference\n",
    "HTML Colors\n",
    "Java Reference\n",
    "Angular Reference\n",
    "jQuery Reference\n",
    "\"\"\"\n",
    "textolista=texto.splitlines()\n",
    "print( textolista[0] )\n",
    "\n",
    "#for linea in textolista:\n",
    " # print(linea) "
   ]
  },
  {
   "cell_type": "code",
   "execution_count": null,
   "metadata": {
    "colab": {
     "base_uri": "https://localhost:8080/"
    },
    "id": "-WNjebIlidZd",
    "outputId": "9f443773-c81f-46bc-8af6-d3369c483b63"
   },
   "outputs": [
    {
     "data": {
      "text/plain": [
       "list"
      ]
     },
     "execution_count": 77,
     "metadata": {
      "tags": []
     },
     "output_type": "execute_result"
    }
   ],
   "source": [
    "type(linea)\n",
    "type(textolista)"
   ]
  }
 ],
 "metadata": {
  "colab": {
   "provenance": []
  },
  "kernelspec": {
   "display_name": "Python 3 (ipykernel)",
   "language": "python",
   "name": "python3"
  },
  "language_info": {
   "codemirror_mode": {
    "name": "ipython",
    "version": 3
   },
   "file_extension": ".py",
   "mimetype": "text/x-python",
   "name": "python",
   "nbconvert_exporter": "python",
   "pygments_lexer": "ipython3",
   "version": "3.10.11"
  }
 },
 "nbformat": 4,
 "nbformat_minor": 4
}
