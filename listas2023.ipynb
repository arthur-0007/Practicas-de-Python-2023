{
 "cells": [
  {
   "cell_type": "markdown",
   "id": "84a38aa7-1633-4b09-a453-0a322710930e",
   "metadata": {},
   "source": [
    "### LISTAS"
   ]
  },
  {
   "cell_type": "code",
   "execution_count": 3,
   "id": "f3a7fc5d-aea9-4f69-9bbc-b08a163c7e41",
   "metadata": {},
   "outputs": [
    {
     "name": "stdout",
     "output_type": "stream",
     "text": [
      "<class 'list'>\n",
      "0\n"
     ]
    }
   ],
   "source": [
    "li=[] #lista vacia\n",
    "print(type(li)) # ver tipo de dato\n",
    "print(len(li)) #ver cuantos elementos lo conforman"
   ]
  },
  {
   "cell_type": "code",
   "execution_count": 4,
   "id": "ec5d3577-50fa-4a2a-9689-1c62f1fdc59e",
   "metadata": {},
   "outputs": [
    {
     "name": "stdout",
     "output_type": "stream",
     "text": [
      "[]\n",
      "[1, 11, 2.2, '@']\n"
     ]
    }
   ],
   "source": [
    "#metodo built-in o metodo intrinseco al tipo de dato lista\n",
    "# APPEND: anexa nuevos elementos a la lista\n",
    "li=[]\n",
    "print(li)# lista vacia\n",
    "a,b,c=11,2.2,\"@\"\n",
    "\n",
    "li.append(1)\n",
    "li.append(a)\n",
    "li.append(b)\n",
    "li.append(c)\n",
    "\n",
    "print(li)# Lista con elementos"
   ]
  },
  {
   "cell_type": "code",
   "execution_count": 7,
   "id": "5de774d7-8d8b-49d9-98d0-17dce7af978f",
   "metadata": {},
   "outputs": [
    {
     "name": "stdout",
     "output_type": "stream",
     "text": [
      "79.52333333333333\n",
      "Las calificaciones son: 99.8   78.66   60.11\n"
     ]
    }
   ],
   "source": [
    "# Diseñe un programa que calcule el promedio de 3 calificaciones(Flotantes)\n",
    "#imprima los datos de entrada y el promedio al final del programa\n",
    "\n",
    "cal=[99.8,78.66,60.11]\n",
    "prom=(cal[0]+cal[1]+cal[2])/3\n",
    "print(prom)\n",
    "print(\"Las calificaciones son:\",cal[0],\" \",cal[1],\" \",cal[2])"
   ]
  },
  {
   "cell_type": "code",
   "execution_count": 4,
   "id": "f44a44e0-7f65-4ce1-a8c9-21988e4f4488",
   "metadata": {},
   "outputs": [
    {
     "name": "stdout",
     "output_type": "stream",
     "text": [
      "79.5\n",
      "Las calificaciones son:99.8, 78.7 y60.1\n"
     ]
    }
   ],
   "source": [
    "# Diseñe un programa que calcule el promedio de 3 calificaciones(Flotantes)\n",
    "#imprima los datos de entrada y el promedio al final del programa\n",
    "\n",
    "cal=[99.8,78.66,60.11]\n",
    "prom=(cal[0]+cal[1]+cal[2])/3\n",
    "print(\"El promedio es {:.3} .\".format(prom) )\n",
    "print(\"Las calificaciones son:{:.3}, {:.3} y{:.3}\".format(cal[0],cal[1],cal[2]))"
   ]
  },
  {
   "cell_type": "code",
   "execution_count": 2,
   "id": "829cb0ea-889b-4207-aa1d-4574da55ea1d",
   "metadata": {},
   "outputs": [
    {
     "name": "stdout",
     "output_type": "stream",
     "text": [
      "79.52333333333333\n",
      "Las calificaciones son:99.8, 78.66 y60.11\n"
     ]
    }
   ],
   "source": [
    "# Diseñe un programa que calcule el promedio de 3 calificaciones(Flotantes)\n",
    "#imprima los datos de entrada y el promedio al final del programa\n",
    "\n",
    "cal=[99.8,78.66,60.11]\n",
    "prom=(cal[0]+cal[1]+cal[2])/3\n",
    "print(prom)\n",
    "print(\"Las calificaciones son:{0}, {1} y{2}\".format(cal[0],cal[1],cal[2]))"
   ]
  },
  {
   "cell_type": "code",
   "execution_count": null,
   "id": "7d1c6dfd-acd6-4d38-8e44-d4daf382d862",
   "metadata": {},
   "outputs": [],
   "source": []
  },
  {
   "cell_type": "code",
   "execution_count": 9,
   "id": "1fe8be72-6b11-4112-b9e9-f526742a4b29",
   "metadata": {},
   "outputs": [
    {
     "name": "stdout",
     "output_type": "stream",
     "text": [
      "El promedio es 99.56\n",
      "Las calificaciones son: 99.8\n",
      "Las calificaciones son: 78.66\n",
      "Las calificaciones son: 60.11\n"
     ]
    }
   ],
   "source": [
    "cals=[99.8,78.66,60.11]\n",
    "suma=0\n",
    "for c in cals:\n",
    "    suma=sum+c\n",
    "\n",
    "prom=(suma)/3\n",
    "print(\"El promedio es\",prom)\n",
    "for i in cals:\n",
    "    print(\"Las calificaciones son:\",i)"
   ]
  },
  {
   "cell_type": "code",
   "execution_count": 21,
   "id": "0db784cb-2b4b-43b4-8fc9-f7324cc10c81",
   "metadata": {},
   "outputs": [
    {
     "name": "stdin",
     "output_type": "stream",
     "text": [
      "Cuantas calificaciones 4\n",
      "Escribela calificacion>>  88\n",
      "Escribela calificacion>>  77\n",
      "Escribela calificacion>>  99\n",
      "Escribela calificacion>>  66\n"
     ]
    },
    {
     "name": "stdout",
     "output_type": "stream",
     "text": [
      "330.0   4\n",
      "El promedio es 82.5\n",
      "Las calificaciones son:\n",
      "Calificacion  0 = 88.0\n",
      "Calificacion  1 = 77.0\n",
      "Calificacion  2 = 99.0\n",
      "Calificacion  3 = 66.0\n"
     ]
    }
   ],
   "source": [
    "cals=[]\n",
    "suma=0\n",
    "cuantas=int(input(\"Cuantas calificaciones\"))\n",
    "for a in range(cuantas):\n",
    "    calif=float(input(\"Escribela calificacion>> \"))\n",
    "    cals.append(calif)\n",
    "\n",
    "\n",
    "for c in cals:\n",
    "    suma=suma+c\n",
    "print(suma,\" \",cuantas)\n",
    "prom=suma/cuantas\n",
    "\n",
    "print(\"El promedio es\",prom)\n",
    "print(\"Las calificaciones son:\")\n",
    "q=0\n",
    "for i in cals:\n",
    "    print(\"Calificacion \",q,\"=\",i)\n",
    "    q=q+1"
   ]
  },
  {
   "cell_type": "code",
   "execution_count": 1,
   "id": "33631959-57ae-4ddf-8557-53641911ea55",
   "metadata": {},
   "outputs": [
    {
     "name": "stdin",
     "output_type": "stream",
     "text": [
      "Cuantas calificaciones 3\n",
      "Escribela calificacion>>  11\n",
      "Escribela calificacion>>  22\n",
      "Escribela calificacion>>  33\n"
     ]
    },
    {
     "name": "stdout",
     "output_type": "stream",
     "text": [
      "El promedio es 22.0\n",
      "Las calificaciones son:\n",
      "Calificacion  0 = 11.0\n",
      "Calificacion  1 = 22.0\n",
      "Calificacion  2 = 33.0\n"
     ]
    }
   ],
   "source": [
    "#from math import sum\n",
    "cals=[]\n",
    "suma=0\n",
    "cuantas=int(input(\"Cuantas calificaciones\"))\n",
    "for a in range(cuantas):\n",
    "    calif=float(input(\"Escribela calificacion>> \"))\n",
    "    cals.append(calif)\n",
    "\n",
    "\n",
    "prom=sum(cals)/cuantas\n",
    "\n",
    "print(\"El promedio es\",prom)\n",
    "print(\"Las calificaciones son:\")\n",
    "q=0\n",
    "for i in cals:\n",
    "    print(\"Calificacion \",q,\"=\",i)\n",
    "    q=q+1"
   ]
  },
  {
   "cell_type": "code",
   "execution_count": 8,
   "id": "71d5b2af-78c0-4294-85b3-6e32f416020f",
   "metadata": {},
   "outputs": [
    {
     "name": "stdin",
     "output_type": "stream",
     "text": [
      "Cuantas calificaciones 2\n",
      "Escribela calificacion>>  11\n",
      "Escribela calificacion>>  22\n"
     ]
    },
    {
     "name": "stdout",
     "output_type": "stream",
     "text": [
      "El promedio es 16.5\n",
      "Las calificaciones son:\n",
      "Calificaciones:\n",
      "1 = 11.02 = 22.0"
     ]
    }
   ],
   "source": [
    "#from math import sum\n",
    "cals=[]\n",
    "suma=0\n",
    "cuantas=int(input(\"Cuantas calificaciones\"))\n",
    "for a in range(cuantas):\n",
    "    calif=float(input(\"Escribela calificacion>> \"))\n",
    "    cals.append(calif)\n",
    "\n",
    "\n",
    "prom=sum(cals)/cuantas\n",
    "\n",
    "print(\"El promedio es\",prom)\n",
    "print(\"Las calificaciones son:\")\n",
    "q=0\n",
    "print(\"Calificaciones:\")\n",
    "for i in cals:\n",
    "    q=q+1\n",
    "    print(\"Calificacion:\"q,\"= \",i,end=\"\")\n",
    "    "
   ]
  },
  {
   "cell_type": "code",
   "execution_count": 11,
   "id": "5212b2cb-8e2b-4fc4-872a-68183eba4fae",
   "metadata": {},
   "outputs": [
    {
     "name": "stdin",
     "output_type": "stream",
     "text": [
      "Cuantas calificaciones 2\n",
      "Escribela calificacion>>  1\n",
      "Escribela calificacion>>  0\n"
     ]
    },
    {
     "name": "stdout",
     "output_type": "stream",
     "text": [
      "El promedio es 0.5\n",
      "Las calificaciones son:\n",
      "Calificaciones:\n",
      "Calificacion: 2 =  0.0"
     ]
    }
   ],
   "source": [
    "#from math import sum\n",
    "cals=[]\n",
    "suma=0\n",
    "cuantas=int(input(\"Cuantas calificaciones\"))\n",
    "for a in range(cuantas):\n",
    "    \n",
    "    calif=float(input(\"Escribela calificacion>> \"))\n",
    "    if calif >100 or calif <0:\n",
    "        continue\n",
    "    else:\n",
    "        cals.append(calif)\n",
    "\n",
    "\n",
    "prom=sum(cals)/cuantas\n",
    "\n",
    "print(\"El promedio es\",prom)\n",
    "print(\"Las calificaciones son:\")\n",
    "q=0\n",
    "print(\"Calificaciones:\")\n",
    "for i in cals:\n",
    "    q=q+1\n",
    "print(\"Calificacion:\",q,\"= \",i,end=\"\")"
   ]
  },
  {
   "cell_type": "code",
   "execution_count": 10,
   "id": "25009e43-7945-46be-90f2-91e217472239",
   "metadata": {},
   "outputs": [
    {
     "name": "stdout",
     "output_type": "stream",
     "text": [
      "1\n",
      "2\n",
      "3\n",
      "[1, 2, 3]\n",
      "[2, 3, 4]\n"
     ]
    }
   ],
   "source": [
    "li=[1,2,3]\n",
    "l2=[]\n",
    "#print(type(l2))\n",
    "#print(len(l2))\n",
    "\n",
    "for k in li:\n",
    "    #print(k)\n",
    "    l2.append(k+1)\n",
    "\n",
    "print(li)\n",
    "print(l2)\n",
    "\n",
    "    "
   ]
  }
 ],
 "metadata": {
  "kernelspec": {
   "display_name": "Python 3 (ipykernel)",
   "language": "python",
   "name": "python3"
  },
  "language_info": {
   "codemirror_mode": {
    "name": "ipython",
    "version": 3
   },
   "file_extension": ".py",
   "mimetype": "text/x-python",
   "name": "python",
   "nbconvert_exporter": "python",
   "pygments_lexer": "ipython3",
   "version": "3.10.5"
  }
 },
 "nbformat": 4,
 "nbformat_minor": 5
}
