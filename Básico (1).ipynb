{
 "cells": [
  {
   "cell_type": "markdown",
   "metadata": {
    "id": "GTSkuusAScvy"
   },
   "source": []
  },
  {
   "cell_type": "code",
   "execution_count": null,
   "metadata": {
    "colab": {
     "base_uri": "https://localhost:8080/"
    },
    "id": "DEvK5RMXV9V_",
    "outputId": "1eaf0594-01af-41f8-9212-32cc6c4ad6a7"
   },
   "outputs": [
    {
     "name": "stdout",
     "output_type": "stream",
     "text": [
      "El valor es:  1900\n"
     ]
    }
   ],
   "source": [
    "#q=\"Hola\" # Variable de texto\n",
    "q='Hola' # Variable de texto\n",
    "#print(q)\n",
    "a=1900 #Variable entera\n",
    "pi=3.1416 #variable flotante o decimal\n",
    "\n",
    "print(\"El valor es: \",a)\n"
   ]
  },
  {
   "cell_type": "code",
   "execution_count": null,
   "metadata": {
    "id": "cYS29KsAWAft"
   },
   "outputs": [],
   "source": [
    "q=\"Hola\" # Variable de texto\n",
    "a=1 #Variable entera\n",
    "pi=3.1416 #variable flotante o decimal\n",
    "\n",
    "print(\"Entero \",a,\" Decimal \",pi, \"Texto \",q)"
   ]
  },
  {
   "cell_type": "code",
   "execution_count": null,
   "metadata": {
    "id": "2ZW7NwoyV1By"
   },
   "outputs": [],
   "source": [
    "q=\"Hola\" # Variable de texto\n",
    "#print(q)\n",
    "a=1 #Variable entera\n",
    "pi=3.1416 #variable flotante o decimal\n",
    "\n",
    "print(\"Entero \",a)\n",
    "print(\"Decimal\",pi)\n",
    "print(\"Texto\",q)"
   ]
  },
  {
   "cell_type": "code",
   "execution_count": null,
   "metadata": {
    "colab": {
     "base_uri": "https://localhost:8080/"
    },
    "id": "efyGmYMRV5ev",
    "outputId": "dd6726fb-c8ac-477f-e4b9-e8833ef816d1"
   },
   "outputs": [
    {
     "name": "stdout",
     "output_type": "stream",
     "text": [
      "Entero 1 \n",
      "Decimal 3.1416 \n",
      "Texto Hola\n"
     ]
    }
   ],
   "source": [
    "q,a,pi=\"Hola\",1,3.1416 # Asignacion compacta.\n",
    "print(\"Entero\",a,\"\\nDecimal\",pi,\"\\nTexto:\",q) # Caracter para tabulacion vertical \\n "
   ]
  },
  {
   "cell_type": "markdown",
   "metadata": {
    "id": "-gbnlJaoXB6j"
   },
   "source": [
    "Las variables en python: Texto(Str), Enteros(int), Flotantes (float), Booleanas (Bool). Y se crean asignar información."
   ]
  },
  {
   "cell_type": "code",
   "execution_count": null,
   "metadata": {
    "colab": {
     "base_uri": "https://localhost:8080/"
    },
    "id": "kwbD0xDEXBdL",
    "outputId": "729eec7d-8330-40df-ea79-4e4f810f5eba"
   },
   "outputs": [
    {
     "name": "stdout",
     "output_type": "stream",
     "text": [
      "<class 'float'>\n"
     ]
    }
   ],
   "source": [
    "entero=2\n",
    "print( type(entero) )"
   ]
  },
  {
   "cell_type": "code",
   "execution_count": null,
   "metadata": {
    "colab": {
     "base_uri": "https://localhost:8080/"
    },
    "id": "w2udPeUVXyP4",
    "outputId": "f3ded8a9-7b8a-45f1-a45c-0c942133bb21"
   },
   "outputs": [
    {
     "name": "stdout",
     "output_type": "stream",
     "text": [
      "<class 'float'>\n"
     ]
    }
   ],
   "source": [
    "d=3.1416\n",
    "print( type(d) )"
   ]
  },
  {
   "cell_type": "code",
   "execution_count": null,
   "metadata": {
    "colab": {
     "base_uri": "https://localhost:8080/"
    },
    "id": "lg-A_JhbX5Xs",
    "outputId": "f8dcff91-d984-411b-9b15-c498b4bb6498"
   },
   "outputs": [
    {
     "name": "stdout",
     "output_type": "stream",
     "text": [
      "<class 'str'>\n"
     ]
    }
   ],
   "source": [
    "w=\"@\"\n",
    "print(type(w))"
   ]
  },
  {
   "cell_type": "code",
   "execution_count": null,
   "metadata": {
    "colab": {
     "base_uri": "https://localhost:8080/"
    },
    "id": "ASTqEU5-X_U0",
    "outputId": "fee9e42a-02a4-40fe-fdac-8b44a3612e42"
   },
   "outputs": [
    {
     "name": "stdout",
     "output_type": "stream",
     "text": [
      "<class 'bool'>\n"
     ]
    }
   ],
   "source": [
    "z=False # False #Contraparte False\n",
    "print(type(z))\n",
    "\n",
    "q,z=33,\"@\""
   ]
  },
  {
   "cell_type": "code",
   "execution_count": null,
   "metadata": {
    "colab": {
     "base_uri": "https://localhost:8080/"
    },
    "id": "Up7XIW95YaM8",
    "outputId": "bc41ecb9-49d6-4190-cfa3-85bfbd62d32c"
   },
   "outputs": [
    {
     "name": "stdout",
     "output_type": "stream",
     "text": [
      "Escribe un entero.45\n",
      "<class 'str'>\n",
      "<class 'int'>\n",
      "55\n"
     ]
    }
   ],
   "source": [
    "#var=input(\"Escribe un entero.\") #Leemos informacion del teclado\n",
    "#q=int(var)# conversion de tipo texto a entero\n",
    "\n",
    "q=int(input(\"Escribe un entero: \"))#Lectura y conversion de tipo texto a entero\n",
    "# int, float,str,bool castings\n",
    "\n",
    "print(type(var)) # verificar el tipo \n",
    "print(type(q)) # verificar el tipo \n",
    "\n",
    "suma=q+10\n",
    "#print(q+10) #Suma dentro del print \n",
    "\n",
    "print(suma) # imprimimos la suma "
   ]
  },
  {
   "cell_type": "code",
   "execution_count": null,
   "metadata": {
    "colab": {
     "base_uri": "https://localhost:8080/"
    },
    "id": "xh2S16d3aChJ",
    "outputId": "a5151501-2a3a-4518-c858-f843b8892c37"
   },
   "outputs": [
    {
     "name": "stdout",
     "output_type": "stream",
     "text": [
      "2\n",
      "0\n",
      "4\n",
      "8\n",
      "5.0\n",
      "1\n",
      "2\n",
      "5\n"
     ]
    }
   ],
   "source": [
    "#  + - * ** / % // ()\n",
    "\n",
    "print(1+1) # suma\n",
    "print(1-1) # resta\n",
    "print(2*2) # producto\n",
    "print(2**3) # potencia\n",
    "print(10/2) # division\n",
    "print(10%3) # módulo\n",
    "print(5//2) # division entera\n",
    "print(1+(2*2) ) #jerarquia de parentesis"
   ]
  }
 ],
 "metadata": {
  "colab": {
   "provenance": []
  },
  "kernelspec": {
   "display_name": "Python 3 (ipykernel)",
   "language": "python",
   "name": "python3"
  },
  "language_info": {
   "codemirror_mode": {
    "name": "ipython",
    "version": 3
   },
   "file_extension": ".py",
   "mimetype": "text/x-python",
   "name": "python",
   "nbconvert_exporter": "python",
   "pygments_lexer": "ipython3",
   "version": "3.10.5"
  }
 },
 "nbformat": 4,
 "nbformat_minor": 4
}
