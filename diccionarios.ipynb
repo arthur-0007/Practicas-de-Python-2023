{
 "cells": [
  {
   "cell_type": "markdown",
   "id": "d0ea3b28-cc5e-4a0b-822c-c03238d213ec",
   "metadata": {},
   "source": [
    "### Diccionarios"
   ]
  },
  {
   "cell_type": "code",
   "execution_count": 2,
   "id": "f33295e9-77ef-4746-be30-6ecdc45e38a3",
   "metadata": {},
   "outputs": [],
   "source": [
    "dcc={\"pinguinos\": 14.5}"
   ]
  },
  {
   "cell_type": "code",
   "execution_count": 15,
   "id": "ae3a8174-d586-4888-92ce-e18e0ace8661",
   "metadata": {},
   "outputs": [
    {
     "name": "stdout",
     "output_type": "stream",
     "text": [
      "sistema de cobro 5000\n"
     ]
    },
    {
     "name": "stdin",
     "output_type": "stream",
     "text": [
      "Introdusca el item a buscar leche\n"
     ]
    },
    {
     "ename": "KeyError",
     "evalue": "'leche'",
     "output_type": "error",
     "traceback": [
      "\u001b[1;31m---------------------------------------------------------------------------\u001b[0m",
      "\u001b[1;31mKeyError\u001b[0m                                  Traceback (most recent call last)",
      "Cell \u001b[1;32mIn [15], line 7\u001b[0m\n\u001b[0;32m      5\u001b[0m \u001b[38;5;28;01mwhile\u001b[39;00m bandera:\n\u001b[0;32m      6\u001b[0m     cd\u001b[38;5;241m=\u001b[39m\u001b[38;5;28minput\u001b[39m(\u001b[38;5;124m\"\u001b[39m\u001b[38;5;124mIntrodusca el item a buscar\u001b[39m\u001b[38;5;124m\"\u001b[39m)\n\u001b[1;32m----> 7\u001b[0m     val\u001b[38;5;241m=\u001b[39m\u001b[43mdb\u001b[49m\u001b[43m[\u001b[49m\u001b[43mcd\u001b[49m\u001b[43m]\u001b[49m\n\u001b[0;32m      8\u001b[0m     \u001b[38;5;28mprint\u001b[39m(\u001b[38;5;124m\"\u001b[39m\u001b[38;5;124mEl precio de\u001b[39m\u001b[38;5;124m\"\u001b[39m,cd,\u001b[38;5;124m\"\u001b[39m\u001b[38;5;124m es \u001b[39m\u001b[38;5;124m\"\u001b[39m,val)\n\u001b[0;32m      9\u001b[0m     sm\u001b[38;5;241m=\u001b[39msm\u001b[38;5;241m+\u001b[39mval\n",
      "\u001b[1;31mKeyError\u001b[0m: 'leche'"
     ]
    }
   ],
   "source": [
    "db={\"pinguinos\": 14.5,\"tostadas\":9.99,\"cornflakes\":99.99,\"salir\":0}\n",
    "print(\"sistema de cobro 5000\")\n",
    "sm=0\n",
    "bandera=True\n",
    "while bandera:\n",
    "    cd=input(\"Introdusca el item a buscar\")\n",
    "    val=db[cd]\n",
    "    print(\"El precio de\",cd,\" es \",val)\n",
    "    sm=sm+val\n",
    "    if  cd==\"salir\":\n",
    "        print( \"saliendo\")\n",
    "        print(\"Total\",sm*1.16)\n",
    "        #bandera=False\n",
    "        Break \n"
   ]
  },
  {
   "cell_type": "code",
   "execution_count": 16,
   "id": "493943de-cc8a-4611-9785-db4ed166b8d4",
   "metadata": {},
   "outputs": [
    {
     "name": "stdout",
     "output_type": "stream",
     "text": [
      "Error entre 0\n",
      "Pero tenemos salud\n"
     ]
    }
   ],
   "source": [
    "try:\n",
    "    1/0\n",
    "except ZeroDivisionError:\n",
    "    print(\"Error entre 0\")\n",
    "finally: \n",
    "    print(\"Pero tenemos salud\")"
   ]
  },
  {
   "cell_type": "code",
   "execution_count": 19,
   "id": "23eb3748-9b3e-4f01-bc9f-15db489a8cf3",
   "metadata": {},
   "outputs": [
    {
     "name": "stdout",
     "output_type": "stream",
     "text": [
      "sistema de cobro 5000\n"
     ]
    },
    {
     "name": "stdin",
     "output_type": "stream",
     "text": [
      "Introdusca el item a buscar pinguinos\n"
     ]
    },
    {
     "name": "stdout",
     "output_type": "stream",
     "text": [
      "El precio de pinguinos  es  14.5\n"
     ]
    },
    {
     "name": "stdin",
     "output_type": "stream",
     "text": [
      "Introdusca el item a buscar leche\n"
     ]
    },
    {
     "name": "stdout",
     "output_type": "stream",
     "text": [
      "Error: ese producto no existe\n"
     ]
    },
    {
     "name": "stdin",
     "output_type": "stream",
     "text": [
      "Introdusca el item a buscar salir\n"
     ]
    },
    {
     "name": "stdout",
     "output_type": "stream",
     "text": [
      "El precio de salir  es  0\n",
      "saliendo\n",
      "Total 16.82\n"
     ]
    },
    {
     "ename": "NameError",
     "evalue": "name 'Break' is not defined",
     "output_type": "error",
     "traceback": [
      "\u001b[1;31m---------------------------------------------------------------------------\u001b[0m",
      "\u001b[1;31mNameError\u001b[0m                                 Traceback (most recent call last)",
      "Cell \u001b[1;32mIn [19], line 19\u001b[0m\n\u001b[0;32m     17\u001b[0m \u001b[38;5;28mprint\u001b[39m(\u001b[38;5;124m\"\u001b[39m\u001b[38;5;124mTotal\u001b[39m\u001b[38;5;124m\"\u001b[39m,sm\u001b[38;5;241m*\u001b[39m\u001b[38;5;241m1.16\u001b[39m)\n\u001b[0;32m     18\u001b[0m \u001b[38;5;66;03m#bandera=False\u001b[39;00m\n\u001b[1;32m---> 19\u001b[0m \u001b[43mBreak\u001b[49m \n",
      "\u001b[1;31mNameError\u001b[0m: name 'Break' is not defined"
     ]
    }
   ],
   "source": [
    "db={\"pinguinos\": 14.5,\"tostadas\":9.99,\"cornflakes\":99.99,\"salir\":0}\n",
    "print(\"sistema de cobro 5000\")\n",
    "sm=0\n",
    "bandera=True\n",
    "while bandera:\n",
    "    cd=input(\"Introdusca el item a buscar\")\n",
    "    try:\n",
    "        val=db[cd] \n",
    "        print(\"El precio de\",cd,\" es \",val)\n",
    "        sm=sm+val\n",
    "    except KeyError :\n",
    "        print(\"Error: ese producto no existe\")\n",
    "    finally:\n",
    "        \n",
    "        if  cd==\"salir\":\n",
    "            print( \"saliendo\")\n",
    "            print(\"Total\",sm*1.16)\n",
    "            #bandera=False\n",
    "            Break \n"
   ]
  },
  {
   "cell_type": "code",
   "execution_count": 24,
   "id": "4a6e62a6-e195-4c08-8baa-a953698e4d33",
   "metadata": {},
   "outputs": [
    {
     "name": "stdout",
     "output_type": "stream",
     "text": [
      "sistema de cobro 5000\n"
     ]
    },
    {
     "name": "stdin",
     "output_type": "stream",
     "text": [
      "Introdusca el item a buscar tostadas\n"
     ]
    },
    {
     "name": "stdout",
     "output_type": "stream",
     "text": [
      "El precio de tostadas  es  9.99\n"
     ]
    },
    {
     "name": "stdin",
     "output_type": "stream",
     "text": [
      "Introdusca el item a buscar pinguinos\n"
     ]
    },
    {
     "name": "stdout",
     "output_type": "stream",
     "text": [
      "El precio de pinguinos  es  14.5\n"
     ]
    },
    {
     "name": "stdin",
     "output_type": "stream",
     "text": [
      "Introdusca el item a buscar cancel\n"
     ]
    },
    {
     "name": "stdout",
     "output_type": "stream",
     "text": [
      "El precio de cancel  es  -1\n"
     ]
    },
    {
     "name": "stdin",
     "output_type": "stream",
     "text": [
      "Introdusca el item a cancelar>>  tostadas\n"
     ]
    },
    {
     "name": "stdout",
     "output_type": "stream",
     "text": [
      "cancelacion exitosa\n",
      "['tostadas', 'pinguinos', 'cancel']\n",
      "[14.5, -1]\n"
     ]
    },
    {
     "ename": "KeyboardInterrupt",
     "evalue": "Interrupted by user",
     "output_type": "error",
     "traceback": [
      "\u001b[1;31m---------------------------------------------------------------------------\u001b[0m",
      "\u001b[1;31mKeyboardInterrupt\u001b[0m                         Traceback (most recent call last)",
      "Cell \u001b[1;32mIn [24], line 8\u001b[0m\n\u001b[0;32m      6\u001b[0m bandera\u001b[38;5;241m=\u001b[39m\u001b[38;5;28;01mTrue\u001b[39;00m\n\u001b[0;32m      7\u001b[0m \u001b[38;5;28;01mwhile\u001b[39;00m bandera:\n\u001b[1;32m----> 8\u001b[0m     cd\u001b[38;5;241m=\u001b[39m\u001b[38;5;28;43minput\u001b[39;49m\u001b[43m(\u001b[49m\u001b[38;5;124;43m\"\u001b[39;49m\u001b[38;5;124;43mIntrodusca el item a buscar\u001b[39;49m\u001b[38;5;124;43m\"\u001b[39;49m\u001b[43m)\u001b[49m\n\u001b[0;32m      9\u001b[0m     \u001b[38;5;28;01mtry\u001b[39;00m:\n\u001b[0;32m     10\u001b[0m         val\u001b[38;5;241m=\u001b[39mdb[cd]\n",
      "File \u001b[1;32m~\\AppData\\Local\\Programs\\Python\\Python310\\lib\\site-packages\\ipykernel\\kernelbase.py:1177\u001b[0m, in \u001b[0;36mKernel.raw_input\u001b[1;34m(self, prompt)\u001b[0m\n\u001b[0;32m   1173\u001b[0m \u001b[38;5;28;01mif\u001b[39;00m \u001b[38;5;129;01mnot\u001b[39;00m \u001b[38;5;28mself\u001b[39m\u001b[38;5;241m.\u001b[39m_allow_stdin:\n\u001b[0;32m   1174\u001b[0m     \u001b[38;5;28;01mraise\u001b[39;00m StdinNotImplementedError(\n\u001b[0;32m   1175\u001b[0m         \u001b[38;5;124m\"\u001b[39m\u001b[38;5;124mraw_input was called, but this frontend does not support input requests.\u001b[39m\u001b[38;5;124m\"\u001b[39m\n\u001b[0;32m   1176\u001b[0m     )\n\u001b[1;32m-> 1177\u001b[0m \u001b[38;5;28;01mreturn\u001b[39;00m \u001b[38;5;28;43mself\u001b[39;49m\u001b[38;5;241;43m.\u001b[39;49m\u001b[43m_input_request\u001b[49m\u001b[43m(\u001b[49m\n\u001b[0;32m   1178\u001b[0m \u001b[43m    \u001b[49m\u001b[38;5;28;43mstr\u001b[39;49m\u001b[43m(\u001b[49m\u001b[43mprompt\u001b[49m\u001b[43m)\u001b[49m\u001b[43m,\u001b[49m\n\u001b[0;32m   1179\u001b[0m \u001b[43m    \u001b[49m\u001b[38;5;28;43mself\u001b[39;49m\u001b[38;5;241;43m.\u001b[39;49m\u001b[43m_parent_ident\u001b[49m\u001b[43m[\u001b[49m\u001b[38;5;124;43m\"\u001b[39;49m\u001b[38;5;124;43mshell\u001b[39;49m\u001b[38;5;124;43m\"\u001b[39;49m\u001b[43m]\u001b[49m\u001b[43m,\u001b[49m\n\u001b[0;32m   1180\u001b[0m \u001b[43m    \u001b[49m\u001b[38;5;28;43mself\u001b[39;49m\u001b[38;5;241;43m.\u001b[39;49m\u001b[43mget_parent\u001b[49m\u001b[43m(\u001b[49m\u001b[38;5;124;43m\"\u001b[39;49m\u001b[38;5;124;43mshell\u001b[39;49m\u001b[38;5;124;43m\"\u001b[39;49m\u001b[43m)\u001b[49m\u001b[43m,\u001b[49m\n\u001b[0;32m   1181\u001b[0m \u001b[43m    \u001b[49m\u001b[43mpassword\u001b[49m\u001b[38;5;241;43m=\u001b[39;49m\u001b[38;5;28;43;01mFalse\u001b[39;49;00m\u001b[43m,\u001b[49m\n\u001b[0;32m   1182\u001b[0m \u001b[43m\u001b[49m\u001b[43m)\u001b[49m\n",
      "File \u001b[1;32m~\\AppData\\Local\\Programs\\Python\\Python310\\lib\\site-packages\\ipykernel\\kernelbase.py:1219\u001b[0m, in \u001b[0;36mKernel._input_request\u001b[1;34m(self, prompt, ident, parent, password)\u001b[0m\n\u001b[0;32m   1216\u001b[0m             \u001b[38;5;28;01mbreak\u001b[39;00m\n\u001b[0;32m   1217\u001b[0m \u001b[38;5;28;01mexcept\u001b[39;00m \u001b[38;5;167;01mKeyboardInterrupt\u001b[39;00m:\n\u001b[0;32m   1218\u001b[0m     \u001b[38;5;66;03m# re-raise KeyboardInterrupt, to truncate traceback\u001b[39;00m\n\u001b[1;32m-> 1219\u001b[0m     \u001b[38;5;28;01mraise\u001b[39;00m \u001b[38;5;167;01mKeyboardInterrupt\u001b[39;00m(\u001b[38;5;124m\"\u001b[39m\u001b[38;5;124mInterrupted by user\u001b[39m\u001b[38;5;124m\"\u001b[39m) \u001b[38;5;28;01mfrom\u001b[39;00m \u001b[38;5;28mNone\u001b[39m\n\u001b[0;32m   1220\u001b[0m \u001b[38;5;28;01mexcept\u001b[39;00m \u001b[38;5;167;01mException\u001b[39;00m:\n\u001b[0;32m   1221\u001b[0m     \u001b[38;5;28mself\u001b[39m\u001b[38;5;241m.\u001b[39mlog\u001b[38;5;241m.\u001b[39mwarning(\u001b[38;5;124m\"\u001b[39m\u001b[38;5;124mInvalid Message:\u001b[39m\u001b[38;5;124m\"\u001b[39m, exc_info\u001b[38;5;241m=\u001b[39m\u001b[38;5;28;01mTrue\u001b[39;00m)\n",
      "\u001b[1;31mKeyboardInterrupt\u001b[0m: Interrupted by user"
     ]
    }
   ],
   "source": [
    "db={\"pinguinos\": 14.5,\"tostadas\":9.99,\"cornflakes\":99.99,\"salir\":0,\"cancel\":0}\n",
    "lsn=[]\n",
    "lsp=[]\n",
    "print(\"sistema de cobro 5000\")\n",
    "sm=0\n",
    "bandera=True\n",
    "while bandera:\n",
    "    cd=input(\"Introdusca el item a buscar\")\n",
    "    try:\n",
    "        val=db[cd]\n",
    "        print(\"El precio de\",cd,\" es \",val)\n",
    "        lsn.append(cd)\n",
    "        lsp.append(val)\n",
    "    except KeyError :\n",
    "        print(\"Error: ese producto no existe\")\n",
    "    finally:\n",
    "        if cd==\"cancel\":\n",
    "            srch=input(\"Introdusca el item a cancelar>> \")\n",
    "            posi=lsn.index(srch)\n",
    "            lsn.pop(posi)\n",
    "            lsp.pop(posi)\n",
    "            print(\"cancelacion exitosa\")\n",
    "            #print(lsn)\n",
    "            #print(lsp)\n",
    "            continue            \n",
    "        \n",
    "        if  cd==\"salir\":\n",
    "            print( \"saliendo\")\n",
    "            print(\"Total\",sum(lsp)*1.16)\n",
    "            #bandera=False\n",
    "            break    \n",
    "            \n",
    "        "
   ]
  },
  {
   "cell_type": "code",
   "execution_count": null,
   "id": "d64ea34f-1026-43eb-98be-3a94f0abcdeb",
   "metadata": {},
   "outputs": [],
   "source": []
  }
 ],
 "metadata": {
  "kernelspec": {
   "display_name": "Python 3 (ipykernel)",
   "language": "python",
   "name": "python3"
  },
  "language_info": {
   "codemirror_mode": {
    "name": "ipython",
    "version": 3
   },
   "file_extension": ".py",
   "mimetype": "text/x-python",
   "name": "python",
   "nbconvert_exporter": "python",
   "pygments_lexer": "ipython3",
   "version": "3.10.11"
  }
 },
 "nbformat": 4,
 "nbformat_minor": 5
}
