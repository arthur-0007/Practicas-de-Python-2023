{
 "cells": [
  {
   "cell_type": "markdown",
   "id": "eeefb115-2844-4678-bf28-cd7285381e31",
   "metadata": {},
   "source": [
    "CADENAS:\n",
    "Tipo de dato inmutable para almacenar cadenas o caracter.\n",
    "Es posible el acceso a sus elementos mediante indices relativos a la posición solo para leer o no se puede editar o asignar nueva información\n"
   ]
  },
  {
   "cell_type": "code",
   "execution_count": 1,
   "id": "01ecc7f6-a1e1-4a9f-8009-fbfc46949b87",
   "metadata": {},
   "outputs": [
    {
     "name": "stdout",
     "output_type": "stream",
     "text": [
      "A\n",
      "R\n",
      "T\n",
      "U\n",
      "R\n",
      "O\n"
     ]
    }
   ],
   "source": [
    "cad=\"ARTURO\"\n",
    "print(cad[0])\n",
    "print(cad[1])\n",
    "print(cad[2])\n",
    "print(cad[3])\n",
    "print(cad[4])\n",
    "print(cad[5])"
   ]
  },
  {
   "cell_type": "code",
   "execution_count": 9,
   "id": "a232f32e-f8cc-4dbf-b2d8-68589000d15b",
   "metadata": {},
   "outputs": [
    {
     "name": "stdout",
     "output_type": "stream",
     "text": [
      "Hola Mundo\n",
      "Hola Mundo\n"
     ]
    }
   ],
   "source": [
    "# concatenación\n",
    "cada=\"Hola\"\n",
    "cadb=\"Mundo\"\n",
    "c=cada+\" \"+cadb\n",
    "print(c)\n",
    "print(cada+\" \"+cadb)"
   ]
  },
  {
   "cell_type": "code",
   "execution_count": 11,
   "id": "c46ac83d-d8f1-4956-a467-9d3b6a53d390",
   "metadata": {},
   "outputs": [
    {
     "name": "stdout",
     "output_type": "stream",
     "text": [
      " \n",
      "Hola mundo\n",
      "este es un mensaje basado en una\n",
      "cadena multilinea\n",
      "\n"
     ]
    }
   ],
   "source": [
    "cM=\"\"\" \n",
    "Hola mundo\n",
    "este es un mensaje basado en una\n",
    "cadena multilinea\n",
    "\"\"\"\n",
    "print(cM)"
   ]
  },
  {
   "cell_type": "code",
   "execution_count": 13,
   "id": "2544baf3-a71e-4f2d-bda1-85d683a452d7",
   "metadata": {},
   "outputs": [
    {
     "name": "stdout",
     "output_type": "stream",
     "text": [
      "a. Calculo de el área de un circulo\n",
      " b.Calculo del área de un triangulo\n"
     ]
    },
    {
     "name": "stdin",
     "output_type": "stream",
     "text": [
      "Qué opcion eliges?>   1\n"
     ]
    },
    {
     "name": "stdout",
     "output_type": "stream",
     "text": [
      "Esa opcion no existe\n"
     ]
    }
   ],
   "source": [
    "#menu\n",
    "\n",
    "from math import pi\n",
    "#MENU\n",
    "print(\"a. Calculo de el área de un circulo\\n b.Calculo del área de un triangulo\")\n",
    "opc=input(\"Qué opcion eliges?>  \")\n",
    "if opc=='a': #'' \"\"\n",
    "    print(\"Calculo de el área de un circulo\")\n",
    "    radio=float(input(\"Radio> \"))\n",
    "    print(\"El area es \",pi*radio**2 )\n",
    "elif opc=='b':\n",
    "    print(\"Calculo del área de un triangulo\")\n",
    "    b=float(input(\"Base> \"))\n",
    "    a=float(input(\"Altura> \"))\n",
    "    print(\"El area es \",(b*a)/2 )\n",
    "else:\n",
    "    print(\"Esa opcion no existe, solo a o b\") \n"
   ]
  },
  {
   "cell_type": "code",
   "execution_count": 18,
   "id": "5dd5d5aa-ced2-4e55-a928-68bb601bd56b",
   "metadata": {},
   "outputs": [
    {
     "data": {
      "text/plain": [
       "True"
      ]
     },
     "execution_count": 18,
     "metadata": {},
     "output_type": "execute_result"
    }
   ],
   "source": [
    "#Objetos \n",
    "a=\"Arturo1900\"\n",
    "a.isalnum() #Alfanumerico \n"
   ]
  },
  {
   "cell_type": "code",
   "execution_count": 22,
   "id": "f02862a6-2f12-421e-a514-891f5feb532d",
   "metadata": {},
   "outputs": [
    {
     "data": {
      "text/plain": [
       "True"
      ]
     },
     "execution_count": 22,
     "metadata": {},
     "output_type": "execute_result"
    }
   ],
   "source": [
    "#Objeto tipo cadena y funciones importantes de validación\n",
    "a=\"\\u0030\"\n",
    "a.isdecimal() #unicode"
   ]
  },
  {
   "cell_type": "code",
   "execution_count": 24,
   "id": "08db2423-3433-47aa-89cd-a945a67a5b43",
   "metadata": {},
   "outputs": [
    {
     "data": {
      "text/plain": [
       "True"
      ]
     },
     "execution_count": 24,
     "metadata": {},
     "output_type": "execute_result"
    }
   ],
   "source": [
    "#Objetos \n",
    "a=\"1\"\n",
    "a.isdigit()"
   ]
  },
  {
   "cell_type": "code",
   "execution_count": null,
   "id": "b5b97ff0-e16b-47d2-a801-7a4fbb31e702",
   "metadata": {},
   "outputs": [],
   "source": [
    "#Objetos \n",
    "a=\"@\"\n",
    "a.islower()"
   ]
  },
  {
   "cell_type": "code",
   "execution_count": 26,
   "id": "e5fc6259-19ab-44b4-850f-bb97d3c5d232",
   "metadata": {},
   "outputs": [
    {
     "data": {
      "text/plain": [
       "True"
      ]
     },
     "execution_count": 26,
     "metadata": {},
     "output_type": "execute_result"
    }
   ],
   "source": [
    "#Objetos \n",
    "a=\" \"\n",
    "a.isspace()"
   ]
  },
  {
   "cell_type": "code",
   "execution_count": 28,
   "id": "00fd5fca-c9bd-4fe2-bb47-96cf1062445a",
   "metadata": {},
   "outputs": [
    {
     "data": {
      "text/plain": [
       "True"
      ]
     },
     "execution_count": 28,
     "metadata": {},
     "output_type": "execute_result"
    }
   ],
   "source": [
    "#Objetos \n",
    "a=\"A\"\n",
    "a.isupper()"
   ]
  },
  {
   "cell_type": "code",
   "execution_count": 30,
   "id": "75c6a02c-44e9-43d7-a013-82a8542c23be",
   "metadata": {},
   "outputs": [
    {
     "data": {
      "text/plain": [
       "True"
      ]
     },
     "execution_count": 30,
     "metadata": {},
     "output_type": "execute_result"
    }
   ],
   "source": [
    "#Objetos \n",
    "a=\"b\"\n",
    "a.isalpha()"
   ]
  },
  {
   "cell_type": "code",
   "execution_count": 34,
   "id": "27e46ae4-47f0-44ac-b802-b322872b81fc",
   "metadata": {},
   "outputs": [
    {
     "data": {
      "text/plain": [
       "True"
      ]
     },
     "execution_count": 34,
     "metadata": {},
     "output_type": "execute_result"
    }
   ],
   "source": [
    "#Objetos \n",
    "a=\"1123123\"\n",
    "a.isnumeric() # True si toda la cadena es numerica"
   ]
  },
  {
   "cell_type": "code",
   "execution_count": 39,
   "id": "3e82f5b8-e590-482d-8543-e1d103ac67bf",
   "metadata": {},
   "outputs": [
    {
     "name": "stdout",
     "output_type": "stream",
     "text": [
      "PROGRAMACIÓN EN PYTHON 3\n",
      "programación en python 3\n",
      "pROGRAMACIÓN EN pYTHON 3\n"
     ]
    }
   ],
   "source": [
    "#Objeto tipo cadena y funciones importantes de transformación\n",
    "#upper\n",
    "#lower\n",
    "#swapcase\n",
    "a=\"Programación en Python 3\"\n",
    "aa=a.upper() #MAyusculas\n",
    "print(aa)\n",
    "bb=a.lower() #Minusculas\n",
    "print(bb)\n",
    "cc=a.swapcase()# Intercambio de formato\n",
    "print(cc)\n"
   ]
  },
  {
   "cell_type": "code",
   "execution_count": null,
   "id": "a4efa335-3022-41d4-bb1a-a2e9537295fc",
   "metadata": {},
   "outputs": [],
   "source": [
    "\n",
    "from math import pi\n",
    "#MENU\n",
    "print(\"a. Calculo de el área de un circulo\\n b.Calculo del área de un triangulo\")\n",
    "opc=input(\"Qué opcion eliges?>  \")\n",
    "if opc.lower()=='a': #'' \"\"\n",
    "    print(\"Calculo de el área de un circulo\")\n",
    "    radio=float(input(\"Radio> \"))\n",
    "    print(\"El area es \",pi*radio**2 )\n",
    "elif opc.lower()=='b':\n",
    "    print(\"Calculo del área de un triangulo\")\n",
    "    b=float(input(\"Base> \"))\n",
    "    a=float(input(\"Altura> \"))\n",
    "    print(\"El area es \",(b*a)/2 )\n",
    "else:\n",
    "    print(\"Esa opcion no existe, solo a o b\") "
   ]
  },
  {
   "cell_type": "code",
   "execution_count": 52,
   "id": "d789e8c7-07f2-45c8-a404-03701cced0ca",
   "metadata": {},
   "outputs": [
    {
     "name": "stdout",
     "output_type": "stream",
     "text": [
      "Guadalajara\n"
     ]
    }
   ],
   "source": [
    "#Slicing\n",
    "#Recorte de cadenas\n",
    "city=\"Guadalajara, Jalisco\"\n",
    "n=city[0:11]\n",
    "m=city[13:]\n",
    "o=city[0:-9]\n",
    "print(o)\n",
    "#print(n,\" \",m)"
   ]
  },
  {
   "cell_type": "code",
   "execution_count": 57,
   "id": "b09c0e36-d4df-4ceb-a93d-50b8119fbda3",
   "metadata": {},
   "outputs": [
    {
     "name": "stdin",
     "output_type": "stream",
     "text": [
      "Escribe tu clave 4321\n"
     ]
    },
    {
     "name": "stdout",
     "output_type": "stream",
     "text": [
      "La clave es incorrecta\n"
     ]
    }
   ],
   "source": [
    "# Diseñe y codifique un programa que valide que la información entrante sea \n",
    "#unicamente numero en forma de cadena y evitar la entrada de espacio como información\n",
    "#Solo 4 digitos\n",
    "cd=input(\"Escribe tu clave\")\n",
    "#len()\n",
    "\n",
    "if len( cd ) == 4:\n",
    "    if cd.isspace() ==False:\n",
    "        if cd.isnumeric()== True:\n",
    "            if cd==\"1234\":\n",
    "                print(\"Bienvenido a FaceBook\")\n",
    "            else:\n",
    "                print(\"La clave es incorrecta\")\n",
    "        else:\n",
    "            print(\"Solo numeros\")\n",
    "    else:\n",
    "        print(\"No se deben escribir espacios\")\n",
    "else:\n",
    "    print(\"Solo 4 digitos...\")"
   ]
  }
 ],
 "metadata": {
  "kernelspec": {
   "display_name": "Python 3 (ipykernel)",
   "language": "python",
   "name": "python3"
  },
  "language_info": {
   "codemirror_mode": {
    "name": "ipython",
    "version": 3
   },
   "file_extension": ".py",
   "mimetype": "text/x-python",
   "name": "python",
   "nbconvert_exporter": "python",
   "pygments_lexer": "ipython3",
   "version": "3.10.5"
  }
 },
 "nbformat": 4,
 "nbformat_minor": 5
}
