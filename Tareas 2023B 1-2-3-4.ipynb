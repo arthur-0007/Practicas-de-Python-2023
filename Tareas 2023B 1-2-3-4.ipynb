{
 "cells": [
  {
   "cell_type": "code",
   "execution_count": null,
   "id": "d35b8c99-f2f0-4085-ab3e-7731195109f2",
   "metadata": {},
   "outputs": [],
   "source": [
    "Tarea 1:    \n",
    "Diseñar y codificar un algoritmo que haga uso de los operadores matemáticos\n",
    "que calculen lo siguiente:\n",
    "    \n",
    "    q=w*(a**2/b**3)*math.e(-2*math.pi*t)\n",
    "\n",
    "es necesario que el usuario capture valores de tipo flotante(decimal).\n",
    "Adicionalmente de deben de imprimir con leyendas todos los valores de:\n",
    "a,b,t,w y el resultado q.Subir o Compartir el enlace de colab del archivo.\n",
    "Anexar datos personales de clase."
   ]
  },
  {
   "cell_type": "code",
   "execution_count": null,
   "id": "1d9f0a73-dae3-48fa-9c5a-8f423ec4e89b",
   "metadata": {},
   "outputs": [],
   "source": [
    "Tarea 2:\n",
    "Diseñar y codificar un algoritmo que calcule el área de un hexagono.\n",
    "Adicionalmente de deben de imprimir con leyendas todos los valores usados \n",
    "para calcular el área.El programador debe sugerir los valores para el calculo.\n",
    "Subir o Compartir el enlace de colab del archivo.\n",
    "Anexar datos personales de clase.\n",
    "    "
   ]
  },
  {
   "cell_type": "code",
   "execution_count": null,
   "id": "1a0cc25f-b36f-4554-a532-81b4d2ea3d22",
   "metadata": {},
   "outputs": [],
   "source": [
    "Tarea 3:\n",
    "Diseñar y codificar un algoritmo en forma de función(def):\n",
    "    \n",
    "    q=w*(a**2/b**3)*math.e(-2*math.pi*t)\n",
    "\n",
    "es necesario que el usuario capture valores de tipo flotante(decimal) \n",
    "desde la ##función principal.\n",
    "Se de deben de imprimir el resultado q desde la funcion principal\n",
    ".Subir o Compartir el enlace de colab del archivo.\n",
    "Anexar datos personales de clase."
   ]
  },
  {
   "cell_type": "code",
   "execution_count": null,
   "id": "921a71c7-286c-43e9-968e-f888f7ddfdf3",
   "metadata": {},
   "outputs": [],
   "source": [
    "Tarea 4:\n",
    "    \n",
    "Diseñar y codificar un algoritmo que verifique que todos\n",
    "los datos sean diferentes de Cero usando la instruccion If/Else.\n",
    "Para la formula del calculo de la hipotenusa.\n",
    "El usuario debe de introducir datos de tipo flotante.    \n",
    ".Subir o Compartir el enlace de colab del archivo.\n",
    "Anexar datos personales de clase."
   ]
  }
 ],
 "metadata": {
  "kernelspec": {
   "display_name": "Python 3 (ipykernel)",
   "language": "python",
   "name": "python3"
  },
  "language_info": {
   "codemirror_mode": {
    "name": "ipython",
    "version": 3
   },
   "file_extension": ".py",
   "mimetype": "text/x-python",
   "name": "python",
   "nbconvert_exporter": "python",
   "pygments_lexer": "ipython3",
   "version": "3.10.11"
  }
 },
 "nbformat": 4,
 "nbformat_minor": 5
}
