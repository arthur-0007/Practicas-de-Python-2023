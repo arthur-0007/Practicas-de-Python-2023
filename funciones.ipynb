{
 "cells": [
  {
   "cell_type": "code",
   "execution_count": 2,
   "id": "e3e74455-be5b-4fec-b28e-cd6c81430cf2",
   "metadata": {},
   "outputs": [
    {
     "name": "stdout",
     "output_type": "stream",
     "text": [
      "11\n"
     ]
    }
   ],
   "source": [
    "from math import pi\n",
    "\n",
    "def ff(x):\n",
    "    r=x+1\n",
    "    return r\n",
    "#MAIN -------------------------\n",
    "q=10\n",
    "result=ff(q)\n",
    "#print(ff(q))\n",
    "print(result)"
   ]
  },
  {
   "cell_type": "code",
   "execution_count": 11,
   "id": "2556e9f5-2b1c-4e62-85c2-3af9f1687dfc",
   "metadata": {},
   "outputs": [
    {
     "name": "stdout",
     "output_type": "stream",
     "text": [
      "El area del circulo con radio 5.87 es 108.25\n"
     ]
    }
   ],
   "source": [
    "from math import pi\n",
    "\n",
    "def acirc(radio):\n",
    "    a=pi*radio**2\n",
    "    return a\n",
    "#MAIN -------------------------\n",
    "ra=5.87\n",
    "area=acirc(ra)\n",
    "\n",
    "#print(\"El area del circulo con radio\",ra, \" es \",area )\n",
    "print(\"El area del circulo con radio {:.3} es {:1.5}\".format(ra,area) )\n"
   ]
  },
  {
   "cell_type": "code",
   "execution_count": 12,
   "id": "dbe18097-c34b-43b3-b133-6f0f8937b483",
   "metadata": {},
   "outputs": [
    {
     "name": "stdin",
     "output_type": "stream",
     "text": [
      "Escribe el radio en centimetros>> ? 3.4545\n"
     ]
    },
    {
     "name": "stdout",
     "output_type": "stream",
     "text": [
      "El area del circulo con radio 3.45 es 37.49\n"
     ]
    }
   ],
   "source": [
    "from math import pi\n",
    "\n",
    "def acirc(radio):\n",
    "    a=pi*radio**2\n",
    "    return a\n",
    "#MAIN -------------------------\n",
    "ra=float(input(\"Escribe el radio en centimetros>> ?\"))\n",
    "area=acirc(ra)\n",
    "#print(\"El area del circulo con radio\",ra, \" es \",area )\n",
    "print(\"El area del circulo con radio {:.3} es {:1.5}\".format(ra,area) )"
   ]
  },
  {
   "cell_type": "code",
   "execution_count": 16,
   "id": "1005d72d-a954-445a-b0c8-89856a7ed88b",
   "metadata": {},
   "outputs": [
    {
     "name": "stdin",
     "output_type": "stream",
     "text": [
      "Escribe el radio en centimetros>> ? -23.2\n"
     ]
    },
    {
     "name": "stdout",
     "output_type": "stream",
     "text": [
      "El area del circulo con radio 23.2 es 1690.9\n"
     ]
    }
   ],
   "source": [
    "from math import pi\n",
    "\n",
    "def acirc(radio):\n",
    "    if radio !=0:\n",
    "        a=pi*abs(radio)**2\n",
    "    else:\n",
    "        print(\"El radio debe ser diferente de Cero ERROR:405 \")\n",
    "        a=-1\n",
    "    return a\n",
    "#MAIN -------------------------\n",
    "ra=float(input(\"Escribe el radio en centimetros>> ?\"))\n",
    "area=acirc(ra)\n",
    "#print(\"El area del circulo con radio\",ra, \" es \",area )\n",
    "print(\"El area del circulo con radio {:.3} es {:1.5}\".format(abs(ra),area) )"
   ]
  },
  {
   "cell_type": "markdown",
   "id": "3ea7df65-df82-4fae-991f-b4c30bd3437c",
   "metadata": {},
   "source": [
    "Diseñe y codifique en python 3.x un programa que calcule el promedio de 5 valores,\n",
    "los valores se imprimen en pantallan al igual que el promedio.Haga de uso de funciones."
   ]
  },
  {
   "cell_type": "code",
   "execution_count": 25,
   "id": "f0194cbb-8997-4c78-ba53-eb5d2f6f0aa6",
   "metadata": {},
   "outputs": [
    {
     "name": "stdin",
     "output_type": "stream",
     "text": [
      "Escribe  valor ? 9\n",
      "Escribe  valor ? 9\n",
      "Escribe  valor ? 9\n",
      "Escribe  valor ? 9\n",
      "Escribe  valor ? 9\n"
     ]
    },
    {
     "name": "stdout",
     "output_type": "stream",
     "text": [
      "promedio es 9.0 es [9.0, 9.0, 9.0, 9.0, 9.0]\n"
     ]
    }
   ],
   "source": [
    "def prom(data):\n",
    "    sum=0\n",
    "    for i in data:\n",
    "        if i !=0:\n",
    "            sum=sum+i\n",
    "    return sum\n",
    "#MAIN -------------------------\n",
    "data=[]\n",
    "for _ in range(5):\n",
    "\tdata.append(float(input(\"Escribe  valor ?\")))\n",
    "\n",
    "prom=prom(data)\n",
    "#print(\"El area del circulo con radio\",ra, \" es \",area )\n",
    "print(\"promedio es {:.3} es {}\".format(prom/5,str(data) ) )"
   ]
  },
  {
   "cell_type": "code",
   "execution_count": null,
   "id": "c02fc047-7d3f-4371-9d3d-0d09bd48c95c",
   "metadata": {},
   "outputs": [],
   "source": []
  }
 ],
 "metadata": {
  "kernelspec": {
   "display_name": "Python 3 (ipykernel)",
   "language": "python",
   "name": "python3"
  },
  "language_info": {
   "codemirror_mode": {
    "name": "ipython",
    "version": 3
   },
   "file_extension": ".py",
   "mimetype": "text/x-python",
   "name": "python",
   "nbconvert_exporter": "python",
   "pygments_lexer": "ipython3",
   "version": "3.10.5"
  }
 },
 "nbformat": 4,
 "nbformat_minor": 5
}
