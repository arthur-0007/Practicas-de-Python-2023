{
 "cells": [
  {
   "cell_type": "markdown",
   "id": "fd818e72-2ec8-461d-b635-9cffeafd8ad4",
   "metadata": {},
   "source": [
    "Diseñe y codifique un algoritmo donde se apliquen los siguientes ahorros:\n",
    "\n",
    "*En la compra de un solo producto no aplica para ningun ahorro\n",
    "*En la compra de 3 se aplicara un ahorro del 10%\n",
    "*En la compra de 10 o mas se aplicara un ahorro del 18%\n",
    "*En la compra de mas 20 productos se aplicará en ahorro que el Manager autorize con las respectivas credenciales  (Clave 1234).\n",
    "\n",
    "Imprimir un ticket detallado de la compra como en la vide real.\n"
   ]
  },
  {
   "cell_type": "code",
   "execution_count": 12,
   "id": "65aab4e1-ad24-4191-830a-a87e0a0ec847",
   "metadata": {},
   "outputs": [
    {
     "name": "stdin",
     "output_type": "stream",
     "text": [
      "Cuantos productos>  11\n",
      "Nombre del producto>  pinol\n",
      "Precio del producto>  12.34\n"
     ]
    },
    {
     "name": "stdout",
     "output_type": "stream",
     "text": [
      "3\n",
      "Abarrotes Doña Carmen\n",
      "Usted ahorro:  3316.5625680000003 precio x 12.34 = 11\n",
      "Neto 111.3068\n",
      "Descuento\n",
      "Total a pagar 129.11588799999998\n"
     ]
    }
   ],
   "source": [
    "#PROGRAMA DE ahorroS 16 DE FEBRERO DE 2023\n",
    "#ARTURO VALDIVIA GLEZ\n",
    "#2945343\n",
    "cnt=int(input(\"Cuantos productos> \"))\n",
    "dsc=input(\"Nombre del producto> \")\n",
    "price=float(input(\"Precio del producto> \"))\n",
    "iva=1.16\n",
    "neto=0\n",
    "\n",
    "if cnt !=0 or price != 0 :\n",
    "    if cnt==1:\n",
    "        print(\"1: Sin ahorros\")\n",
    "        neto=cnt*price\n",
    "        ahorro=0       \n",
    "        \n",
    "    elif cnt >=3 and cnt <=9:\n",
    "        neto=(cnt*price)*0.9# 10 % disc\n",
    "        ahorro=(cnt*price)*0.01\n",
    "        print(\"2: Mayor a 3 productos\")\n",
    "    elif cnt >=11 and cnt <=19:\n",
    "        neto=(cnt*price)*0.82# 18 disc\n",
    "        ahorro=(cnt*price)*0.18\n",
    "        print(\"3: Mayor a 10 productos\")\n",
    "    elif cnt >20:\n",
    "        print(\"4: ahorro flexible\")\n",
    "        pasw=int(input(\"<< Autorizacion >>\"))\n",
    "        if pasw== 1234:\n",
    "            disc=float(input(\"% de ahorro a aplicar...> \"))\n",
    "            val1=(abs(disc-100))/100\n",
    "            \n",
    "            neto=(cnt*price)*val1\n",
    "            print(\"Se autorizo un ahorro de\",disc,\"%\")\n",
    "            ahorro=(cnt*price)*(disc/100)\n",
    "            \n",
    "    print(\"Abarrotes Doña Carmen\") # se ejecuta siempre que cantidad y precio sean diferentes de 0\n",
    "    # fecha rfc domicio telefono\n",
    "\n",
    "    print(\"Usted ahorro: \", ahorro,\"precio x\",price,\"=\",cnt)\n",
    "    print(\"Neto\",neto)\n",
    "    print(\"ahorro\")\n",
    "    print(\"Total a pagar\",neto*iva)\n",
    "else:\n",
    "    print(\"Los valores deben ser diferentes de cero y de tener un nombre el producto\")\n",
    "\n",
    "\n"
   ]
  },
  {
   "cell_type": "code",
   "execution_count": null,
   "id": "018bafb5-a3c1-4fcf-92f2-1b32c4234097",
   "metadata": {},
   "outputs": [],
   "source": []
  }
 ],
 "metadata": {
  "kernelspec": {
   "display_name": "Python 3 (ipykernel)",
   "language": "python",
   "name": "python3"
  },
  "language_info": {
   "codemirror_mode": {
    "name": "ipython",
    "version": 3
   },
   "file_extension": ".py",
   "mimetype": "text/x-python",
   "name": "python",
   "nbconvert_exporter": "python",
   "pygments_lexer": "ipython3",
   "version": "3.10.5"
  }
 },
 "nbformat": 4,
 "nbformat_minor": 5
}
