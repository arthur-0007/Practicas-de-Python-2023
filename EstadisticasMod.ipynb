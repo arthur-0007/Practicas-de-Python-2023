{
 "cells": [
  {
   "cell_type": "markdown",
   "id": "5deae100-7f64-432b-a0ba-da5f6bdc355f",
   "metadata": {},
   "source": [
    "### Funciones estadisticas\n",
    "Medidas de la tendencia central\n",
    "    Mean\n",
    "    Median\n",
    "        Median Low\n",
    "        Median High\n",
    "    Moda\n",
    "Medidas de variabilidad:\n",
    "    Range\n",
    "    Varianza\n",
    "    Standard Deviation"
   ]
  },
  {
   "cell_type": "code",
   "execution_count": 11,
   "id": "2472e5fb-265f-4831-b53f-f41ab85a6088",
   "metadata": {},
   "outputs": [
    {
     "name": "stdout",
     "output_type": "stream",
     "text": [
      "El promedio es 2"
     ]
    }
   ],
   "source": [
    "import statistics\n",
    "li=[1,2,3,3,2,2,2,1]\n",
    "prom=statistics.mean(li)\n",
    "print(\"El promedio es {}\".format(prom),end=\"\")\n"
   ]
  },
  {
   "cell_type": "code",
   "execution_count": 7,
   "id": "77f64f98-f705-45e9-ba9c-dacc28b2270d",
   "metadata": {},
   "outputs": [
    {
     "name": "stdout",
     "output_type": "stream",
     "text": [
      "2/3\n",
      "Mediana data 1: 5\n",
      "Mediana data 2: .5.1\n",
      "Mediana data 3: .2\n",
      "Mediana data 4: .-2.0\n",
      "Mediana data 5: 1.5\n"
     ]
    }
   ],
   "source": [
    "from statistics import median\n",
    "from fractions import Fraction as fr\n",
    "data1=[2,3,4,5,7,8,11]\n",
    "data2=[2,4,5.1,6.7,8.9]\n",
    "data3=(fr(1,2),fr(44,12),fr(10,3),fr(2,3))\n",
    "data4=[-1,-2,-3,-3,-2,-2,-2,-1]\n",
    "data5=[-1,-2,-3,3,2,2,2,1]\n",
    "print(fr(2,3))# fraccion\n",
    "\n",
    "print(\"Mediana data 1: {}\".format(median(data1)))\n",
    "print(\"Mediana data 2: .{}\".format(median(data2)))\n",
    "print(\"Mediana data 3: .{}\".format(median(data3)))\n",
    "print(\"Mediana data 4: .{}\".format(median(data4)))\n",
    "print(\"Mediana data 5: {}\".format(median(data5)))"
   ]
  },
  {
   "cell_type": "code",
   "execution_count": 12,
   "id": "a3693fca-da45-4ab6-acff-c55d147380be",
   "metadata": {},
   "outputs": [
    {
     "name": "stdout",
     "output_type": "stream",
     "text": [
      "Mediana=2.0 mediana baja2 mediana alta\n"
     ]
    }
   ],
   "source": [
    "import statistics\n",
    "from statistics import median,median_low,median_high\n",
    "li=[1,2,3,3,2,2,2,1]\n",
    "#mm=statistics.median(li)\n",
    "#lm=statistics.median_low(li)\n",
    "#hm=statistics.median_high(li)\n",
    "mm=median(li)\n",
    "lm=median_low(li)\n",
    "hm=median_high(li)\n",
    "print(\"Mediana={} mediana baja{} mediana alta\".format(mm,lm,hm))\n"
   ]
  },
  {
   "cell_type": "code",
   "execution_count": 13,
   "id": "ebe69828-28fe-4208-adca-0a29e955c565",
   "metadata": {},
   "outputs": [
    {
     "name": "stdout",
     "output_type": "stream",
     "text": [
      "Mediana data 1: 3\n",
      "Mediana data 2: .2\n",
      "Mediana data 3: .2/3\n",
      "Mediana data 4: .-2\n",
      "Mediana data 5: red\n"
     ]
    }
   ],
   "source": [
    "from statistics import mode\n",
    "\n",
    "from fractions import Fraction as fr\n",
    "data1=[2,3,4,5,7,8,11,3,3]\n",
    "data2=[2,4,5.1,6.7,8.9,2,2]\n",
    "data3=(fr(1,2),fr(44,12),fr(10,3),fr(2,3),fr(2,3))\n",
    "data4=[-1,-2,-3,-3,-2,-2,-2,-1]\n",
    "data5=[\"red\",\"red\",\"blue\",\"black\"]\n",
    "\n",
    "\n",
    "print(\"Mediana data 1: {}\".format(mode(data1)))\n",
    "print(\"Mediana data 2: .{}\".format(mode(data2)))\n",
    "print(\"Mediana data 3: .{}\".format(mode(data3)))\n",
    "print(\"Mediana data 4: .{}\".format(mode(data4)))\n",
    "print(\"Mediana data 5: {}\".format(mode(data5)))"
   ]
  },
  {
   "cell_type": "code",
   "execution_count": 14,
   "id": "438ff3e2-e5d2-45da-9343-12c1f77f9816",
   "metadata": {},
   "outputs": [
    {
     "name": "stdout",
     "output_type": "stream",
     "text": [
      "El maximo es 11, el minimo es 2 y el rango es 9\n"
     ]
    }
   ],
   "source": [
    "#rango\n",
    "data1=[2,3,4,5,7,8,11,3,3]\n",
    "maxi=max(data1)\n",
    "mini=min(data1)\n",
    "Range=maxi-mini\n",
    "print(\"El maximo es {}, el minimo es {} y el rango es {}\".format(maxi,mini,Range))\n"
   ]
  },
  {
   "cell_type": "code",
   "execution_count": 16,
   "id": "9d4195cb-b68b-483f-8070-78a7f27191ed",
   "metadata": {},
   "outputs": [
    {
     "name": "stdout",
     "output_type": "stream",
     "text": [
      "Varianza data 1: 8.86111111111111\n",
      "Varianza data 2: .7.244761904761905\n",
      "Varianza data 3: .227/90\n",
      "Varianza data 4: .0.5714285714285714\n",
      "\n",
      "\n",
      "Desviancion STD data 1: 2.9767618499152917\n",
      "Desviancion STD data 2: .2.6916095379460048\n",
      "Desviancion STD data 3: .1.5881505666095461\n",
      "Desviancion STD data 4: .0.7559289460184544\n"
     ]
    }
   ],
   "source": [
    "from statistics import variance,stdev\n",
    "\n",
    "from fractions import Fraction as fr\n",
    "data1=[2,3,4,5,7,8,11,3,3]\n",
    "data2=[2,4,5.1,6.7,8.9,2,2]\n",
    "data3=(fr(1,2),fr(44,12),fr(10,3),fr(2,3),fr(2,3))\n",
    "data4=[-1,-2,-3,-3,-2,-2,-2,-1]\n",
    "\n",
    "print(\"Varianza data 1: {}\".format(variance(data1)))\n",
    "print(\"Varianza data 2: .{}\".format(variance(data2)))\n",
    "print(\"Varianza data 3: .{}\".format(variance(data3)))\n",
    "print(\"Varianza data 4: .{}\".format(variance(data4)))\n",
    "print(\"\\n\")\n",
    "\n",
    "print(\"Desviancion STD data 1: {}\".format(stdev(data1)))\n",
    "print(\"Desviancion STD data 2: .{}\".format(stdev(data2)))\n",
    "print(\"Desviancion STD data 3: .{}\".format(stdev(data3)))\n",
    "print(\"Desviancion STD data 4: .{}\".format(stdev(data4)))\n"
   ]
  }
 ],
 "metadata": {
  "kernelspec": {
   "display_name": "Python 3 (ipykernel)",
   "language": "python",
   "name": "python3"
  },
  "language_info": {
   "codemirror_mode": {
    "name": "ipython",
    "version": 3
   },
   "file_extension": ".py",
   "mimetype": "text/x-python",
   "name": "python",
   "nbconvert_exporter": "python",
   "pygments_lexer": "ipython3",
   "version": "3.10.5"
  }
 },
 "nbformat": 4,
 "nbformat_minor": 5
}
