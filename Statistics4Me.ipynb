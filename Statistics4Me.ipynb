{
 "cells": [
  {
   "attachments": {
    "105cac33-c12e-450a-9fac-8272599aead7.png": {
     "image/png": "[encoded data removed]"
    },
    "74e2de84-6f18-4a9f-bfab-3680f48d5830.png": {
     "image/png": "[encoded data removed]"
    }
   },
   "cell_type": "markdown",
   "id": "3bd14faf-0215-4092-9823-4ad4d23eb0bf",
   "metadata": {},
   "source": [
    "Media\n",
    "![image.png](attachment:74e2de84-6f18-4a9f-bfab-3680f48d5830.png)![image.png](attachment:105cac33-c12e-450a-9fac-8272599aead7.png)"
   ]
  },
  {
   "cell_type": "code",
   "execution_count": 2,
   "id": "1409a6cb-1ac0-4f38-a0d6-0a325c741453",
   "metadata": {},
   "outputs": [
    {
     "name": "stdout",
     "output_type": "stream",
     "text": [
      "4.428571428571429\n"
     ]
    }
   ],
   "source": [
    "def mean(vect):\n",
    "    s=0\n",
    "    for i in vect:\n",
    "        s=s+i\n",
    "    return ( s/len(vect) )\n",
    "# Media\n",
    "#Main Program\n",
    "li=[4,3,2,1,6,7,8]\n",
    "print(mean(li))\n",
    "        "
   ]
  },
  {
   "cell_type": "code",
   "execution_count": 15,
   "id": "770b0b6a-0a9e-49ca-acd5-fa174b3934b8",
   "metadata": {},
   "outputs": [
    {
     "name": "stdout",
     "output_type": "stream",
     "text": [
      "[1, 1, 2, 3, 4, 6, 7, 8, 9]\n",
      "4\n"
     ]
    }
   ],
   "source": [
    "#Median\n",
    "def median(vect):\n",
    "    n=len(vect)\n",
    "    vect.sort()\n",
    "    print(vect)\n",
    "    \n",
    "    if n%2 == 0:\n",
    "        idx=(n//2)+1\n",
    "    else:\n",
    "        idx=n//2\n",
    "    return vect[idx]\n",
    "\n",
    "#main\n",
    "li=[1,4,3,2,1,6,7,8,9]\n",
    "print(median(li))\n",
    "#len(li)"
   ]
  },
  {
   "cell_type": "code",
   "execution_count": 17,
   "id": "5cea4ef5-a013-4c29-972f-0603fc29881d",
   "metadata": {},
   "outputs": [
    {
     "name": "stdout",
     "output_type": "stream",
     "text": [
      "9\n"
     ]
    }
   ],
   "source": [
    "#Median\n",
    "def mode(vect):\n",
    "    n=len(vect)\n",
    "    le=[]\n",
    "    for l in vect:\n",
    "        cnt=vect.count(l)\n",
    "        le.append(cnt)\n",
    "    \n",
    "    maxp=max(le)\n",
    "    if maxp != -1:\n",
    "        pos=le.index(maxp)\n",
    "        return vect[pos]\n",
    "    else:\n",
    "        return -1     \n",
    "    \n",
    "\n",
    "#main\n",
    "li=[1,4,3,2,1,6,7,8,9,9,9,9]\n",
    "print(mode(li))\n",
    "#len(li)"
   ]
  },
  {
   "cell_type": "code",
   "execution_count": null,
   "id": "b33c566d-d714-4efa-a727-44ef9e98ff0e",
   "metadata": {},
   "outputs": [],
   "source": []
  }
 ],
 "metadata": {
  "kernelspec": {
   "display_name": "Python 3 (ipykernel)",
   "language": "python",
   "name": "python3"
  },
  "language_info": {
   "codemirror_mode": {
    "name": "ipython",
    "version": 3
   },
   "file_extension": ".py",
   "mimetype": "text/x-python",
   "name": "python",
   "nbconvert_exporter": "python",
   "pygments_lexer": "ipython3",
   "version": "3.10.5"
  }
 },
 "nbformat": 4,
 "nbformat_minor": 5
}
