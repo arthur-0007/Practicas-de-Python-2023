{
 "cells": [
  {
   "cell_type": "code",
   "execution_count": 55,
   "id": "e4ac482b-a371-43f9-b331-1954e4d2aa5e",
   "metadata": {},
   "outputs": [],
   "source": [
    "import random\n",
    "z=random.random() # Aletorio de 0-1 (float)\n",
    "a=random.uniform(1,10)# Aleatorio en el intervalo especificado(float)\n",
    "\n",
    "b=random.randint(1,10)# Aletoriedad entera con aplicacion\n",
    "c=random.randrange(1,10,2)\n",
    "d=random.choice('abcdefz')\n",
    "items=[\"Juan\",\"José\",\"María\"]\n",
    "#abc='abcdefz'\n",
    "e=random.shuffle(items)\n",
    "f=random.sample(items,1)\n"
   ]
  },
  {
   "cell_type": "code",
   "execution_count": 54,
   "id": "51dad846-41c9-4d19-b36b-77ddc31e63ce",
   "metadata": {
    "jupyter": {
     "source_hidden": true
    },
    "tags": []
   },
   "outputs": [
    {
     "name": "stdout",
     "output_type": "stream",
     "text": [
      "53.853154538470264\n"
     ]
    }
   ],
   "source": [
    "calificacion=z*100\n",
    "print(calificacion)"
   ]
  },
  {
   "cell_type": "code",
   "execution_count": 17,
   "id": "992b0b98-105f-47e3-814d-22ffdba63636",
   "metadata": {
    "collapsed": true,
    "jupyter": {
     "outputs_hidden": true,
     "source_hidden": true
    },
    "tags": []
   },
   "outputs": [
    {
     "data": {
      "text/plain": [
       "3.6791306871249474"
      ]
     },
     "execution_count": 17,
     "metadata": {},
     "output_type": "execute_result"
    }
   ],
   "source": [
    "a"
   ]
  },
  {
   "cell_type": "code",
   "execution_count": 22,
   "id": "da3fb39a-b34e-439e-af97-cd778afd0ac9",
   "metadata": {},
   "outputs": [
    {
     "data": {
      "text/plain": [
       "7"
      ]
     },
     "execution_count": 22,
     "metadata": {},
     "output_type": "execute_result"
    }
   ],
   "source": [
    "c"
   ]
  },
  {
   "cell_type": "code",
   "execution_count": 59,
   "id": "ddca0293-700f-4c4b-98ff-22f2b9244742",
   "metadata": {},
   "outputs": [
    {
     "name": "stdout",
     "output_type": "stream",
     "text": [
      "['Pepe', 'José', 'María', 'Alan', 'Juan']\n",
      "['José', 'Pepe']\n"
     ]
    }
   ],
   "source": [
    "items=[\"Juan\",\"José\",\"María\",\"Pepe\",\"Alan\"]\n",
    "random.shuffle(items)\n",
    "print(items)\n",
    "\n",
    "f=random.sample(items,2)\n",
    "print(f)"
   ]
  }
 ],
 "metadata": {
  "kernelspec": {
   "display_name": "Python 3 (ipykernel)",
   "language": "python",
   "name": "python3"
  },
  "language_info": {
   "codemirror_mode": {
    "name": "ipython",
    "version": 3
   },
   "file_extension": ".py",
   "mimetype": "text/x-python",
   "name": "python",
   "nbconvert_exporter": "python",
   "pygments_lexer": "ipython3",
   "version": "3.10.5"
  }
 },
 "nbformat": 4,
 "nbformat_minor": 5
}
